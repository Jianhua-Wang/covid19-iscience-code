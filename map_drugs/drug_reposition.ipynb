{
 "cells": [
  {
   "cell_type": "code",
   "execution_count": 1,
   "metadata": {},
   "outputs": [],
   "source": [
    "import pandas as pd\n",
    "import numpy as np"
   ]
  },
  {
   "cell_type": "code",
   "execution_count": 2,
   "metadata": {},
   "outputs": [],
   "source": [
    "symbol_geneid_map = pd.read_pickle('http://115.24.151.181/ID_convert/Gene_Symbol-Gene_ID.pkl')"
   ]
  },
  {
   "cell_type": "code",
   "execution_count": 3,
   "metadata": {},
   "outputs": [],
   "source": [
    "clinicaltrial = pd.read_csv('./clinicaltrial.csv')\n",
    "clinicaltrial_all = clinicaltrial['ChEMBL'].unique()\n",
    "\n",
    "clinicaltrial = pd.read_csv('./clinicaltrial.csv')\n",
    "clinicaltrial_approv = clinicaltrial[clinicaltrial['Clinical_phase']==4]['ChEMBL'].unique()"
   ]
  },
  {
   "cell_type": "code",
   "execution_count": 4,
   "metadata": {},
   "outputs": [],
   "source": [
    "drugs = pd.read_csv('./drug_targets_dir.csv')"
   ]
  },
  {
   "cell_type": "code",
   "execution_count": 5,
   "metadata": {},
   "outputs": [],
   "source": [
    "drugs_chembl = pd.read_csv('./drugs_chembl.txt',sep='\\t',header=None)\n",
    "drugs_chembl = drugs_chembl.drop_duplicates(0)\n",
    "drugs_chembl = pd.Series(index=drugs_chembl[0].values, data=drugs_chembl[1].values)\n",
    "drugs['ChEMBL_guess'] = drugs['drug_claim_primary_name'].map(drugs_chembl)\n",
    "drugs['ChEMBL'] = drugs['ChEMBL_guess'].where(drugs['drug_concept_id'].isnull(),drugs['drug_concept_id'])"
   ]
  },
  {
   "cell_type": "code",
   "execution_count": 6,
   "metadata": {},
   "outputs": [],
   "source": [
    "drugs = drugs.drop_duplicates(['ChEMBL','gene_name'])"
   ]
  },
  {
   "cell_type": "code",
   "execution_count": 54,
   "metadata": {},
   "outputs": [],
   "source": [
    "drugs.to_csv('./drug_targets_dir_maxphase.csv',index=False)"
   ]
  },
  {
   "cell_type": "code",
   "execution_count": 7,
   "metadata": {},
   "outputs": [],
   "source": [
    "drugs = pd.read_csv('./drug_targets_dir_maxphase.csv')\n",
    "drugs['Clinical_phase'] = drugs['Clinical_phase'].fillna(0).astype(int)\n",
    "drugs = drugs[drugs['ChEMBL'].notnull()]"
   ]
  },
  {
   "cell_type": "code",
   "execution_count": 8,
   "metadata": {},
   "outputs": [],
   "source": [
    "rwr_res = pd.read_csv('./rwr_res.csv')\n",
    "rwr_res = rwr_res[rwr_res['source'].isin(drugs['entrez_id'].values)]\n",
    "direc = pd.DataFrame(columns=rwr_res.columns)\n",
    "direc['source'] = drugs['entrez_id'].unique()\n",
    "direc['target'] = direc['source']\n",
    "direc['prob'] = 1.0\n",
    "direc['path'] = ''\n",
    "direc['direction'] = 1\n",
    "rwr_res = pd.concat([direc,rwr_res], ignore_index=True)"
   ]
  },
  {
   "cell_type": "code",
   "execution_count": 9,
   "metadata": {},
   "outputs": [],
   "source": [
    "host = pd.read_excel('../source_with_direction/all_host_genes_direction.xlsx')\n",
    "host['entrez_host'] = host['Host Gene'].map(symbol_geneid_map)\n",
    "host = host[host['entrez_host'].notnull()]\n",
    "host['entrez_host'] = host['entrez_host'].astype(int)"
   ]
  },
  {
   "cell_type": "code",
   "execution_count": 10,
   "metadata": {},
   "outputs": [],
   "source": [
    "map_network = rwr_res.merge(host,left_on='target',right_on='entrez_host',how='right')\n",
    "map_network = map_network.rename(columns={'direction':'G2G','Direction':'G2V'})\n",
    "reposition = drugs.merge(map_network, left_on='entrez_id',right_on='source',how='right')\n",
    "reposition['D2V'] = reposition['Direction']*reposition['G2G']*reposition['G2V']\n",
    "failed = reposition[reposition['D2V']==1]\n",
    "reposition.to_csv('./all_DGVs.txt',sep='\\t',index=False)\n",
    "reposition = reposition[reposition['D2V']==-1]"
   ]
  },
  {
   "cell_type": "code",
   "execution_count": 12,
   "metadata": {},
   "outputs": [
    {
     "data": {
      "text/plain": [
       "6243"
      ]
     },
     "execution_count": 12,
     "metadata": {},
     "output_type": "execute_result"
    }
   ],
   "source": [
    "len(reposition['ChEMBL'].unique())"
   ]
  },
  {
   "cell_type": "markdown",
   "metadata": {},
   "source": [
    "## side effect and comorbidty"
   ]
  },
  {
   "cell_type": "code",
   "execution_count": 13,
   "metadata": {},
   "outputs": [],
   "source": [
    "snp2disease = pd.read_csv('./variant_gene_direction.txt')\n",
    "snp2disease = snp2disease[snp2disease['Finemapping Pro']>=0]\n",
    "snp2disease['entrez_disease'] = snp2disease['gene_name'].map(symbol_geneid_map)\n",
    "snp2disease = snp2disease[snp2disease['entrez_disease'].notnull()]\n",
    "snp2disease['entrez_disease'] = snp2disease['entrez_disease'].astype(int)\n",
    "snp2disease['G2V'] = snp2disease['DirCE'].map({'I':-1,'A':1})"
   ]
  },
  {
   "cell_type": "code",
   "execution_count": 14,
   "metadata": {},
   "outputs": [],
   "source": [
    "side_cormo_map = rwr_res.merge(snp2disease,left_on='target',right_on='entrez_disease',how='right')\n",
    "side_cormo_map = side_cormo_map.rename(columns={'direction':'G2G'})\n",
    "side_cormo = drugs.merge(side_cormo_map, left_on='entrez_id',right_on='source',how='right')\n",
    "side_cormo['D2V'] = side_cormo['Direction']*side_cormo['G2G']*side_cormo['G2V']\n",
    "side_cormo = side_cormo[side_cormo['source']==side_cormo['target']]\n",
    "side_effect = side_cormo[side_cormo['D2V']==1]\n",
    "cormobidity = side_cormo[side_cormo['D2V']==-1]"
   ]
  },
  {
   "cell_type": "code",
   "execution_count": 17,
   "metadata": {},
   "outputs": [
    {
     "data": {
      "text/plain": [
       "269"
      ]
     },
     "execution_count": 17,
     "metadata": {},
     "output_type": "execute_result"
    }
   ],
   "source": [
    "len(cormobidity['ChEMBL'].unique())"
   ]
  },
  {
   "cell_type": "code",
   "execution_count": 63,
   "metadata": {},
   "outputs": [],
   "source": [
    "side_cormo.to_csv('./side_cormo.txt',sep='\\t', index=False)"
   ]
  },
  {
   "cell_type": "code",
   "execution_count": 28,
   "metadata": {},
   "outputs": [],
   "source": [
    "side_effect_map = pd.Series(dtype=str)\n",
    "side_effect_counts = pd.Series(dtype=int)\n",
    "for drug, sub_df in side_effect.groupby('drug_claim_primary_name'):\n",
    "    diseases = sub_df['Disease'].unique()\n",
    "    side_effect_map[drug] = ';'.join(diseases)\n",
    "    side_effect_counts[drug] = len(diseases)\n",
    "\n",
    "cormobidity_map = pd.Series(dtype=str)\n",
    "cormobidity_counts = pd.Series(dtype=int)\n",
    "for drug, sub_df in cormobidity.groupby('drug_claim_primary_name'):\n",
    "    diseases = sub_df['Disease'].unique()\n",
    "    cormobidity_map[drug] = ';'.join(diseases)\n",
    "    cormobidity_counts[drug] = len(diseases)"
   ]
  },
  {
   "cell_type": "markdown",
   "metadata": {},
   "source": [
    "## Annotation"
   ]
  },
  {
   "cell_type": "code",
   "execution_count": 29,
   "metadata": {},
   "outputs": [],
   "source": [
    "anno_reposition = reposition[['drug_claim_primary_name','Virus','Host Gene','Host Gene Type','Host Gene Source',\n",
    "                            'G2V','Direciton Type', 'Direction Source','gene_name','interaction_type','interaction_group_score','Direction','path','prob', 'ChEMBL','Clinical_phase']].copy()\n",
    "anno_reposition.columns = ['Drug','Virus','Host Gene','Host Gene Type','Host Gene Source',\n",
    "                            'Direction','Direction Type', 'Direction Source','Drug Target','DTI Type','DTI Score','Drug Effect','Path','RWR Prob', 'CHEMBL ID','Clinical Phase']"
   ]
  },
  {
   "cell_type": "code",
   "execution_count": 30,
   "metadata": {},
   "outputs": [],
   "source": [
    "anno_reposition['fake score'] = anno_reposition['DTI Score'].where(anno_reposition['RWR Prob']<1, 10000)\n",
    "anno_reposition = anno_reposition.sort_values('fake score', ascending=False)\n",
    "anno_reposition = anno_reposition.drop_duplicates(['CHEMBL ID', 'Host Gene', 'Drug Target'])"
   ]
  },
  {
   "cell_type": "code",
   "execution_count": 31,
   "metadata": {},
   "outputs": [],
   "source": [
    "anno_reposition.to_csv('./anno_repostition.txt', sep='\\t', index=False)"
   ]
  },
  {
   "cell_type": "code",
   "execution_count": 32,
   "metadata": {},
   "outputs": [],
   "source": [
    "anno_reposition[\n",
    "    'Direction Type Score'] = anno_reposition[\n",
    "        'Direction Type'].map({\n",
    "            'DEG': 0.5,\n",
    "            'CRISPR-Screening': 1,\n",
    "            'eQTL': 1,\n",
    "        })\n",
    "\n",
    "def mapping_score(path):\n",
    "    if path == '':\n",
    "        return 1\n",
    "    else:\n",
    "        return 1/len(path.split('-'))\n",
    "\n",
    "anno_reposition['Mapping Score'] = anno_reposition['Path'].apply(mapping_score)\n",
    "dti_median = drugs['interaction_group_score'].median()\n",
    "anno_reposition['DTI Score Norm'] = 0\n",
    "anno_reposition['DTI Score Norm'] = anno_reposition['DTI Score Norm'].where(anno_reposition['DTI Score']<=dti_median, 1)\n",
    "# anno_reposition['D2V Score'] = anno_reposition['DTI Score']/anno_reposition['DTI Score'].max()*anno_reposition['RWR Prob']*anno_reposition['Direction Type Score']\n",
    "# anno_reposition['D2V Score'] = anno_reposition['DTI Score Norm']*anno_reposition['Mapping Score']*anno_reposition['Direction Type Score']\n",
    "anno_reposition['D2V Score'] = anno_reposition['Mapping Score']*anno_reposition['Direction Type Score']\n"
   ]
  },
  {
   "cell_type": "code",
   "execution_count": 33,
   "metadata": {},
   "outputs": [],
   "source": [
    "drugs_rank = pd.DataFrame(columns=['Drug','CHEMBL ID','Clinical Phase','D2V Score'])\n",
    "ith = 0\n",
    "for drug, sub_df in anno_reposition.groupby('CHEMBL ID'):\n",
    "    sub_df = sub_df.drop_duplicates('Host Gene')\n",
    "    drugs_rank.loc[ith] = sub_df.iloc[0]['Drug'], drug, sub_df.iloc[0]['Clinical Phase'], sub_df['D2V Score'].sum()\n",
    "    ith += 1"
   ]
  },
  {
   "cell_type": "code",
   "execution_count": 34,
   "metadata": {},
   "outputs": [],
   "source": [
    "drugs_rank = drugs_rank[~drugs_rank['Drug'].isin(side_effect_map.index)]"
   ]
  },
  {
   "cell_type": "code",
   "execution_count": 35,
   "metadata": {},
   "outputs": [],
   "source": [
    "# drugs_rank['Side Effect'] = drugs_rank['Drug'].map(side_effect_map).fillna('')\n",
    "# drugs_rank['Side Effect Counts'] = drugs_rank['Drug'].map(side_effect_counts).fillna(0)\n",
    "drugs_rank['Comorbidity'] = drugs_rank['Drug'].map(cormobidity_map).fillna('')\n",
    "drugs_rank['Comorbidity Counts'] = drugs_rank['Drug'].map(cormobidity_counts).fillna(0)"
   ]
  },
  {
   "cell_type": "code",
   "execution_count": 36,
   "metadata": {},
   "outputs": [],
   "source": [
    "drugs_rank['Rating Score'] = drugs_rank['D2V Score'] + drugs_rank['Comorbidity Counts']*1"
   ]
  },
  {
   "cell_type": "code",
   "execution_count": 37,
   "metadata": {},
   "outputs": [],
   "source": [
    "drugs_rank = drugs_rank.sort_values('Rating Score',ascending=False)\n",
    "drugs_rank.index = range(len(drugs_rank))\n",
    "drugs_rank['Clinical Trial'] = 0\n",
    "drugs_rank['Clinical Trial'] = drugs_rank['Clinical Trial'].where(~drugs_rank['CHEMBL ID'].isin(clinicaltrial_all), 1)"
   ]
  },
  {
   "cell_type": "code",
   "execution_count": 47,
   "metadata": {},
   "outputs": [],
   "source": [
    "drugs_rank.to_csv('./drugs_rank.csv', index=False)"
   ]
  },
  {
   "cell_type": "code",
   "execution_count": 39,
   "metadata": {},
   "outputs": [
    {
     "data": {
      "text/html": [
       "<div>\n",
       "<style scoped>\n",
       "    .dataframe tbody tr th:only-of-type {\n",
       "        vertical-align: middle;\n",
       "    }\n",
       "\n",
       "    .dataframe tbody tr th {\n",
       "        vertical-align: top;\n",
       "    }\n",
       "\n",
       "    .dataframe thead th {\n",
       "        text-align: right;\n",
       "    }\n",
       "</style>\n",
       "<table border=\"1\" class=\"dataframe\">\n",
       "  <thead>\n",
       "    <tr style=\"text-align: right;\">\n",
       "      <th></th>\n",
       "      <th>Drug</th>\n",
       "      <th>CHEMBL ID</th>\n",
       "      <th>Clinical Phase</th>\n",
       "      <th>D2V Score</th>\n",
       "      <th>Comorbidity</th>\n",
       "      <th>Comorbidity Counts</th>\n",
       "      <th>Rating Score</th>\n",
       "      <th>Clinical Trial</th>\n",
       "    </tr>\n",
       "  </thead>\n",
       "  <tbody>\n",
       "    <tr>\n",
       "      <th>4175</th>\n",
       "      <td>Ritonavir</td>\n",
       "      <td>CHEMBL163</td>\n",
       "      <td>4.0</td>\n",
       "      <td>1.833333</td>\n",
       "      <td></td>\n",
       "      <td>0.0</td>\n",
       "      <td>1.833333</td>\n",
       "      <td>1</td>\n",
       "    </tr>\n",
       "  </tbody>\n",
       "</table>\n",
       "</div>"
      ],
      "text/plain": [
       "           Drug  CHEMBL ID  Clinical Phase  D2V Score Comorbidity  \\\n",
       "4175  Ritonavir  CHEMBL163             4.0   1.833333               \n",
       "\n",
       "      Comorbidity Counts  Rating Score  Clinical Trial  \n",
       "4175                 0.0      1.833333               1  "
      ]
     },
     "execution_count": 39,
     "metadata": {},
     "output_type": "execute_result"
    }
   ],
   "source": [
    "drugs_rank[drugs_rank['CHEMBL ID']=='CHEMBL163']"
   ]
  },
  {
   "cell_type": "code",
   "execution_count": 40,
   "metadata": {},
   "outputs": [
    {
     "data": {
      "text/html": [
       "<div>\n",
       "<style scoped>\n",
       "    .dataframe tbody tr th:only-of-type {\n",
       "        vertical-align: middle;\n",
       "    }\n",
       "\n",
       "    .dataframe tbody tr th {\n",
       "        vertical-align: top;\n",
       "    }\n",
       "\n",
       "    .dataframe thead th {\n",
       "        text-align: right;\n",
       "    }\n",
       "</style>\n",
       "<table border=\"1\" class=\"dataframe\">\n",
       "  <thead>\n",
       "    <tr style=\"text-align: right;\">\n",
       "      <th></th>\n",
       "      <th>Drug</th>\n",
       "      <th>CHEMBL ID</th>\n",
       "      <th>Clinical Phase</th>\n",
       "      <th>D2V Score</th>\n",
       "      <th>Comorbidity</th>\n",
       "      <th>Comorbidity Counts</th>\n",
       "      <th>Rating Score</th>\n",
       "      <th>Clinical Trial</th>\n",
       "    </tr>\n",
       "  </thead>\n",
       "  <tbody>\n",
       "    <tr>\n",
       "      <th>2</th>\n",
       "      <td>BOSUTINIB</td>\n",
       "      <td>CHEMBL288441</td>\n",
       "      <td>4.0</td>\n",
       "      <td>29.375</td>\n",
       "      <td>Coronary Artery Disease;Diabetes Mellitus, Type 2</td>\n",
       "      <td>2.0</td>\n",
       "      <td>31.375</td>\n",
       "      <td>0</td>\n",
       "    </tr>\n",
       "  </tbody>\n",
       "</table>\n",
       "</div>"
      ],
      "text/plain": [
       "        Drug     CHEMBL ID  Clinical Phase  D2V Score  \\\n",
       "2  BOSUTINIB  CHEMBL288441             4.0     29.375   \n",
       "\n",
       "                                         Comorbidity  Comorbidity Counts  \\\n",
       "2  Coronary Artery Disease;Diabetes Mellitus, Type 2                 2.0   \n",
       "\n",
       "   Rating Score  Clinical Trial  \n",
       "2        31.375               0  "
      ]
     },
     "execution_count": 40,
     "metadata": {},
     "output_type": "execute_result"
    }
   ],
   "source": [
    "drugs_rank[drugs_rank['Drug']=='BOSUTINIB']"
   ]
  },
  {
   "cell_type": "code",
   "execution_count": 41,
   "metadata": {},
   "outputs": [
    {
     "name": "stdout",
     "output_type": "stream",
     "text": [
      "408\n",
      "189\n",
      "33\n",
      "24\n"
     ]
    }
   ],
   "source": [
    "cutoff = 10\n",
    "print(len(drugs_rank[drugs_rank['Rating Score']>=cutoff]))\n",
    "print(len(drugs_rank[drugs_rank['Clinical Trial']==1]))\n",
    "print(len(drugs_rank[(drugs_rank['Rating Score']>=cutoff)&(drugs_rank['Clinical Trial']==1)]))\n",
    "print(len(drugs_rank[(drugs_rank['Rating Score']>=cutoff)&(drugs_rank['Clinical Trial']==1)&(drugs_rank['Clinical Phase']==4)]))"
   ]
  },
  {
   "cell_type": "code",
   "execution_count": 42,
   "metadata": {},
   "outputs": [
    {
     "name": "stdout",
     "output_type": "stream",
     "text": [
      "124\n",
      "134\n",
      "24\n",
      "24\n"
     ]
    }
   ],
   "source": [
    "cutoff = 10\n",
    "drugs_rank_approv = drugs_rank[drugs_rank['Clinical Phase']==4].copy()\n",
    "print(len(drugs_rank_approv[drugs_rank_approv['Rating Score']>=cutoff]))\n",
    "print(len(drugs_rank_approv[drugs_rank_approv['Clinical Trial']==1]))\n",
    "print(len(drugs_rank_approv[(drugs_rank_approv['Rating Score']>=cutoff)&(drugs_rank_approv['Clinical Trial']==1)]))\n",
    "print(len(drugs_rank_approv[(drugs_rank_approv['Rating Score']>=cutoff)&(drugs_rank_approv['Clinical Trial']==1)&(drugs_rank_approv['Clinical Phase']==4)]))"
   ]
  },
  {
   "cell_type": "code",
   "execution_count": 43,
   "metadata": {},
   "outputs": [
    {
     "data": {
      "text/plain": [
       "6023"
      ]
     },
     "execution_count": 43,
     "metadata": {},
     "output_type": "execute_result"
    }
   ],
   "source": [
    "len(drugs_rank['CHEMBL ID'].unique())"
   ]
  },
  {
   "cell_type": "code",
   "execution_count": 44,
   "metadata": {},
   "outputs": [
    {
     "data": {
      "text/plain": [
       "189"
      ]
     },
     "execution_count": 44,
     "metadata": {},
     "output_type": "execute_result"
    }
   ],
   "source": [
    "len(drugs_rank[drugs_rank['Clinical Trial']==1]['CHEMBL ID'].unique())"
   ]
  },
  {
   "cell_type": "code",
   "execution_count": 45,
   "metadata": {},
   "outputs": [
    {
     "data": {
      "text/html": [
       "<div>\n",
       "<style scoped>\n",
       "    .dataframe tbody tr th:only-of-type {\n",
       "        vertical-align: middle;\n",
       "    }\n",
       "\n",
       "    .dataframe tbody tr th {\n",
       "        vertical-align: top;\n",
       "    }\n",
       "\n",
       "    .dataframe thead th {\n",
       "        text-align: right;\n",
       "    }\n",
       "</style>\n",
       "<table border=\"1\" class=\"dataframe\">\n",
       "  <thead>\n",
       "    <tr style=\"text-align: right;\">\n",
       "      <th></th>\n",
       "      <th>Drug</th>\n",
       "      <th>CHEMBL ID</th>\n",
       "      <th>Clinical Phase</th>\n",
       "      <th>D2V Score</th>\n",
       "      <th>Comorbidity</th>\n",
       "      <th>Comorbidity Counts</th>\n",
       "      <th>Rating Score</th>\n",
       "      <th>Clinical Trial</th>\n",
       "    </tr>\n",
       "  </thead>\n",
       "  <tbody>\n",
       "    <tr>\n",
       "      <th>4</th>\n",
       "      <td>THALIDOMIDE</td>\n",
       "      <td>CHEMBL468</td>\n",
       "      <td>4.0</td>\n",
       "      <td>28.083333</td>\n",
       "      <td></td>\n",
       "      <td>0.0</td>\n",
       "      <td>28.083333</td>\n",
       "      <td>1</td>\n",
       "    </tr>\n",
       "    <tr>\n",
       "      <th>6</th>\n",
       "      <td>ASPIRIN</td>\n",
       "      <td>CHEMBL25</td>\n",
       "      <td>4.0</td>\n",
       "      <td>27.833333</td>\n",
       "      <td></td>\n",
       "      <td>0.0</td>\n",
       "      <td>27.833333</td>\n",
       "      <td>1</td>\n",
       "    </tr>\n",
       "    <tr>\n",
       "      <th>22</th>\n",
       "      <td>Cannabidiol</td>\n",
       "      <td>CHEMBL190461</td>\n",
       "      <td>4.0</td>\n",
       "      <td>21.833333</td>\n",
       "      <td>Diabetes Mellitus, Type 2;Coronary Artery Disease</td>\n",
       "      <td>2.0</td>\n",
       "      <td>23.833333</td>\n",
       "      <td>1</td>\n",
       "    </tr>\n",
       "    <tr>\n",
       "      <th>52</th>\n",
       "      <td>LENALIDOMIDE</td>\n",
       "      <td>CHEMBL848</td>\n",
       "      <td>4.0</td>\n",
       "      <td>20.916667</td>\n",
       "      <td></td>\n",
       "      <td>0.0</td>\n",
       "      <td>20.916667</td>\n",
       "      <td>1</td>\n",
       "    </tr>\n",
       "    <tr>\n",
       "      <th>89</th>\n",
       "      <td>PROGESTERONE</td>\n",
       "      <td>CHEMBL103</td>\n",
       "      <td>4.0</td>\n",
       "      <td>17.333333</td>\n",
       "      <td></td>\n",
       "      <td>0.0</td>\n",
       "      <td>17.333333</td>\n",
       "      <td>1</td>\n",
       "    </tr>\n",
       "    <tr>\n",
       "      <th>94</th>\n",
       "      <td>Chlorpromazine</td>\n",
       "      <td>CHEMBL71</td>\n",
       "      <td>4.0</td>\n",
       "      <td>17.083333</td>\n",
       "      <td></td>\n",
       "      <td>0.0</td>\n",
       "      <td>17.083333</td>\n",
       "      <td>1</td>\n",
       "    </tr>\n",
       "    <tr>\n",
       "      <th>95</th>\n",
       "      <td>Ketamine</td>\n",
       "      <td>CHEMBL742</td>\n",
       "      <td>4.0</td>\n",
       "      <td>17.041667</td>\n",
       "      <td></td>\n",
       "      <td>0.0</td>\n",
       "      <td>17.041667</td>\n",
       "      <td>1</td>\n",
       "    </tr>\n",
       "    <tr>\n",
       "      <th>145</th>\n",
       "      <td>Ibuprofen</td>\n",
       "      <td>CHEMBL521</td>\n",
       "      <td>4.0</td>\n",
       "      <td>13.541667</td>\n",
       "      <td>Diabetes Mellitus, Type 2</td>\n",
       "      <td>1.0</td>\n",
       "      <td>14.541667</td>\n",
       "      <td>1</td>\n",
       "    </tr>\n",
       "    <tr>\n",
       "      <th>147</th>\n",
       "      <td>Imatinib</td>\n",
       "      <td>CHEMBL941</td>\n",
       "      <td>4.0</td>\n",
       "      <td>14.458333</td>\n",
       "      <td></td>\n",
       "      <td>0.0</td>\n",
       "      <td>14.458333</td>\n",
       "      <td>1</td>\n",
       "    </tr>\n",
       "    <tr>\n",
       "      <th>179</th>\n",
       "      <td>Atorvastatin</td>\n",
       "      <td>CHEMBL1487</td>\n",
       "      <td>4.0</td>\n",
       "      <td>13.333333</td>\n",
       "      <td></td>\n",
       "      <td>0.0</td>\n",
       "      <td>13.333333</td>\n",
       "      <td>1</td>\n",
       "    </tr>\n",
       "    <tr>\n",
       "      <th>183</th>\n",
       "      <td>Spironolactone</td>\n",
       "      <td>CHEMBL1393</td>\n",
       "      <td>4.0</td>\n",
       "      <td>13.250000</td>\n",
       "      <td></td>\n",
       "      <td>0.0</td>\n",
       "      <td>13.250000</td>\n",
       "      <td>1</td>\n",
       "    </tr>\n",
       "    <tr>\n",
       "      <th>218</th>\n",
       "      <td>PENTOXIFYLLINE</td>\n",
       "      <td>CHEMBL628</td>\n",
       "      <td>4.0</td>\n",
       "      <td>12.250000</td>\n",
       "      <td></td>\n",
       "      <td>0.0</td>\n",
       "      <td>12.250000</td>\n",
       "      <td>1</td>\n",
       "    </tr>\n",
       "    <tr>\n",
       "      <th>250</th>\n",
       "      <td>Chloroquine</td>\n",
       "      <td>CHEMBL76</td>\n",
       "      <td>4.0</td>\n",
       "      <td>11.750000</td>\n",
       "      <td></td>\n",
       "      <td>0.0</td>\n",
       "      <td>11.750000</td>\n",
       "      <td>1</td>\n",
       "    </tr>\n",
       "    <tr>\n",
       "      <th>253</th>\n",
       "      <td>Dexamethasone acetate</td>\n",
       "      <td>CHEMBL384467</td>\n",
       "      <td>4.0</td>\n",
       "      <td>11.750000</td>\n",
       "      <td></td>\n",
       "      <td>0.0</td>\n",
       "      <td>11.750000</td>\n",
       "      <td>1</td>\n",
       "    </tr>\n",
       "    <tr>\n",
       "      <th>262</th>\n",
       "      <td>Amantadine</td>\n",
       "      <td>CHEMBL660</td>\n",
       "      <td>4.0</td>\n",
       "      <td>11.541667</td>\n",
       "      <td></td>\n",
       "      <td>0.0</td>\n",
       "      <td>11.541667</td>\n",
       "      <td>1</td>\n",
       "    </tr>\n",
       "    <tr>\n",
       "      <th>267</th>\n",
       "      <td>Cyclosporine</td>\n",
       "      <td>CHEMBL160</td>\n",
       "      <td>4.0</td>\n",
       "      <td>11.458333</td>\n",
       "      <td></td>\n",
       "      <td>0.0</td>\n",
       "      <td>11.458333</td>\n",
       "      <td>1</td>\n",
       "    </tr>\n",
       "    <tr>\n",
       "      <th>278</th>\n",
       "      <td>Iloprost</td>\n",
       "      <td>CHEMBL494</td>\n",
       "      <td>4.0</td>\n",
       "      <td>11.166667</td>\n",
       "      <td></td>\n",
       "      <td>0.0</td>\n",
       "      <td>11.166667</td>\n",
       "      <td>1</td>\n",
       "    </tr>\n",
       "    <tr>\n",
       "      <th>291</th>\n",
       "      <td>QUETIAPINE</td>\n",
       "      <td>CHEMBL716</td>\n",
       "      <td>4.0</td>\n",
       "      <td>10.916667</td>\n",
       "      <td></td>\n",
       "      <td>0.0</td>\n",
       "      <td>10.916667</td>\n",
       "      <td>1</td>\n",
       "    </tr>\n",
       "    <tr>\n",
       "      <th>335</th>\n",
       "      <td>Tofacitinib</td>\n",
       "      <td>CHEMBL221959</td>\n",
       "      <td>4.0</td>\n",
       "      <td>10.333333</td>\n",
       "      <td></td>\n",
       "      <td>0.0</td>\n",
       "      <td>10.333333</td>\n",
       "      <td>1</td>\n",
       "    </tr>\n",
       "    <tr>\n",
       "      <th>345</th>\n",
       "      <td>FLUTICASONE PROPIONATE</td>\n",
       "      <td>CHEMBL1473</td>\n",
       "      <td>4.0</td>\n",
       "      <td>10.291667</td>\n",
       "      <td></td>\n",
       "      <td>0.0</td>\n",
       "      <td>10.291667</td>\n",
       "      <td>1</td>\n",
       "    </tr>\n",
       "    <tr>\n",
       "      <th>348</th>\n",
       "      <td>Indomethacin</td>\n",
       "      <td>CHEMBL6</td>\n",
       "      <td>4.0</td>\n",
       "      <td>10.266667</td>\n",
       "      <td></td>\n",
       "      <td>0.0</td>\n",
       "      <td>10.266667</td>\n",
       "      <td>1</td>\n",
       "    </tr>\n",
       "    <tr>\n",
       "      <th>399</th>\n",
       "      <td>Melatonin</td>\n",
       "      <td>CHEMBL45</td>\n",
       "      <td>4.0</td>\n",
       "      <td>10.000000</td>\n",
       "      <td></td>\n",
       "      <td>0.0</td>\n",
       "      <td>10.000000</td>\n",
       "      <td>1</td>\n",
       "    </tr>\n",
       "    <tr>\n",
       "      <th>404</th>\n",
       "      <td>Fluoxetine</td>\n",
       "      <td>CHEMBL41</td>\n",
       "      <td>4.0</td>\n",
       "      <td>10.000000</td>\n",
       "      <td></td>\n",
       "      <td>0.0</td>\n",
       "      <td>10.000000</td>\n",
       "      <td>1</td>\n",
       "    </tr>\n",
       "    <tr>\n",
       "      <th>405</th>\n",
       "      <td>BUDESONIDE</td>\n",
       "      <td>CHEMBL1370</td>\n",
       "      <td>4.0</td>\n",
       "      <td>10.000000</td>\n",
       "      <td></td>\n",
       "      <td>0.0</td>\n",
       "      <td>10.000000</td>\n",
       "      <td>1</td>\n",
       "    </tr>\n",
       "  </tbody>\n",
       "</table>\n",
       "</div>"
      ],
      "text/plain": [
       "                       Drug     CHEMBL ID  Clinical Phase  D2V Score  \\\n",
       "4               THALIDOMIDE     CHEMBL468             4.0  28.083333   \n",
       "6                   ASPIRIN      CHEMBL25             4.0  27.833333   \n",
       "22              Cannabidiol  CHEMBL190461             4.0  21.833333   \n",
       "52             LENALIDOMIDE     CHEMBL848             4.0  20.916667   \n",
       "89             PROGESTERONE     CHEMBL103             4.0  17.333333   \n",
       "94           Chlorpromazine      CHEMBL71             4.0  17.083333   \n",
       "95                 Ketamine     CHEMBL742             4.0  17.041667   \n",
       "145               Ibuprofen     CHEMBL521             4.0  13.541667   \n",
       "147                Imatinib     CHEMBL941             4.0  14.458333   \n",
       "179            Atorvastatin    CHEMBL1487             4.0  13.333333   \n",
       "183          Spironolactone    CHEMBL1393             4.0  13.250000   \n",
       "218          PENTOXIFYLLINE     CHEMBL628             4.0  12.250000   \n",
       "250             Chloroquine      CHEMBL76             4.0  11.750000   \n",
       "253   Dexamethasone acetate  CHEMBL384467             4.0  11.750000   \n",
       "262              Amantadine     CHEMBL660             4.0  11.541667   \n",
       "267            Cyclosporine     CHEMBL160             4.0  11.458333   \n",
       "278                Iloprost     CHEMBL494             4.0  11.166667   \n",
       "291              QUETIAPINE     CHEMBL716             4.0  10.916667   \n",
       "335             Tofacitinib  CHEMBL221959             4.0  10.333333   \n",
       "345  FLUTICASONE PROPIONATE    CHEMBL1473             4.0  10.291667   \n",
       "348            Indomethacin       CHEMBL6             4.0  10.266667   \n",
       "399               Melatonin      CHEMBL45             4.0  10.000000   \n",
       "404              Fluoxetine      CHEMBL41             4.0  10.000000   \n",
       "405              BUDESONIDE    CHEMBL1370             4.0  10.000000   \n",
       "\n",
       "                                           Comorbidity  Comorbidity Counts  \\\n",
       "4                                                                      0.0   \n",
       "6                                                                      0.0   \n",
       "22   Diabetes Mellitus, Type 2;Coronary Artery Disease                 2.0   \n",
       "52                                                                     0.0   \n",
       "89                                                                     0.0   \n",
       "94                                                                     0.0   \n",
       "95                                                                     0.0   \n",
       "145                          Diabetes Mellitus, Type 2                 1.0   \n",
       "147                                                                    0.0   \n",
       "179                                                                    0.0   \n",
       "183                                                                    0.0   \n",
       "218                                                                    0.0   \n",
       "250                                                                    0.0   \n",
       "253                                                                    0.0   \n",
       "262                                                                    0.0   \n",
       "267                                                                    0.0   \n",
       "278                                                                    0.0   \n",
       "291                                                                    0.0   \n",
       "335                                                                    0.0   \n",
       "345                                                                    0.0   \n",
       "348                                                                    0.0   \n",
       "399                                                                    0.0   \n",
       "404                                                                    0.0   \n",
       "405                                                                    0.0   \n",
       "\n",
       "     Rating Score  Clinical Trial  \n",
       "4       28.083333               1  \n",
       "6       27.833333               1  \n",
       "22      23.833333               1  \n",
       "52      20.916667               1  \n",
       "89      17.333333               1  \n",
       "94      17.083333               1  \n",
       "95      17.041667               1  \n",
       "145     14.541667               1  \n",
       "147     14.458333               1  \n",
       "179     13.333333               1  \n",
       "183     13.250000               1  \n",
       "218     12.250000               1  \n",
       "250     11.750000               1  \n",
       "253     11.750000               1  \n",
       "262     11.541667               1  \n",
       "267     11.458333               1  \n",
       "278     11.166667               1  \n",
       "291     10.916667               1  \n",
       "335     10.333333               1  \n",
       "345     10.291667               1  \n",
       "348     10.266667               1  \n",
       "399     10.000000               1  \n",
       "404     10.000000               1  \n",
       "405     10.000000               1  "
      ]
     },
     "execution_count": 45,
     "metadata": {},
     "output_type": "execute_result"
    }
   ],
   "source": [
    "drugs_rank_approv[(drugs_rank_approv['Rating Score']>=cutoff)&(drugs_rank_approv['Clinical Trial']==1)&(drugs_rank_approv['Clinical Phase']==4)]"
   ]
  },
  {
   "cell_type": "code",
   "execution_count": 46,
   "metadata": {},
   "outputs": [
    {
     "data": {
      "text/html": [
       "<div>\n",
       "<style scoped>\n",
       "    .dataframe tbody tr th:only-of-type {\n",
       "        vertical-align: middle;\n",
       "    }\n",
       "\n",
       "    .dataframe tbody tr th {\n",
       "        vertical-align: top;\n",
       "    }\n",
       "\n",
       "    .dataframe thead th {\n",
       "        text-align: right;\n",
       "    }\n",
       "</style>\n",
       "<table border=\"1\" class=\"dataframe\">\n",
       "  <thead>\n",
       "    <tr style=\"text-align: right;\">\n",
       "      <th></th>\n",
       "      <th>Drug</th>\n",
       "      <th>CHEMBL ID</th>\n",
       "      <th>Clinical Phase</th>\n",
       "      <th>D2V Score</th>\n",
       "      <th>Comorbidity</th>\n",
       "      <th>Comorbidity Counts</th>\n",
       "      <th>Rating Score</th>\n",
       "      <th>Clinical Trial</th>\n",
       "    </tr>\n",
       "  </thead>\n",
       "  <tbody>\n",
       "    <tr>\n",
       "      <th>2</th>\n",
       "      <td>BOSUTINIB</td>\n",
       "      <td>CHEMBL288441</td>\n",
       "      <td>4.0</td>\n",
       "      <td>29.375000</td>\n",
       "      <td>Coronary Artery Disease;Diabetes Mellitus, Type 2</td>\n",
       "      <td>2.0</td>\n",
       "      <td>31.375000</td>\n",
       "      <td>0</td>\n",
       "    </tr>\n",
       "    <tr>\n",
       "      <th>4</th>\n",
       "      <td>THALIDOMIDE</td>\n",
       "      <td>CHEMBL468</td>\n",
       "      <td>4.0</td>\n",
       "      <td>28.083333</td>\n",
       "      <td></td>\n",
       "      <td>0.0</td>\n",
       "      <td>28.083333</td>\n",
       "      <td>1</td>\n",
       "    </tr>\n",
       "    <tr>\n",
       "      <th>6</th>\n",
       "      <td>ASPIRIN</td>\n",
       "      <td>CHEMBL25</td>\n",
       "      <td>4.0</td>\n",
       "      <td>27.833333</td>\n",
       "      <td></td>\n",
       "      <td>0.0</td>\n",
       "      <td>27.833333</td>\n",
       "      <td>1</td>\n",
       "    </tr>\n",
       "    <tr>\n",
       "      <th>12</th>\n",
       "      <td>MIDOSTAURIN</td>\n",
       "      <td>CHEMBL608533</td>\n",
       "      <td>4.0</td>\n",
       "      <td>24.750000</td>\n",
       "      <td>Essential Hypertension</td>\n",
       "      <td>1.0</td>\n",
       "      <td>25.750000</td>\n",
       "      <td>0</td>\n",
       "    </tr>\n",
       "    <tr>\n",
       "      <th>14</th>\n",
       "      <td>REGORAFENIB</td>\n",
       "      <td>CHEMBL1946170</td>\n",
       "      <td>4.0</td>\n",
       "      <td>24.916667</td>\n",
       "      <td></td>\n",
       "      <td>0.0</td>\n",
       "      <td>24.916667</td>\n",
       "      <td>0</td>\n",
       "    </tr>\n",
       "    <tr>\n",
       "      <th>17</th>\n",
       "      <td>Pseudoephedrine</td>\n",
       "      <td>CHEMBL1590</td>\n",
       "      <td>4.0</td>\n",
       "      <td>23.708333</td>\n",
       "      <td>Essential Hypertension</td>\n",
       "      <td>1.0</td>\n",
       "      <td>24.708333</td>\n",
       "      <td>0</td>\n",
       "    </tr>\n",
       "    <tr>\n",
       "      <th>18</th>\n",
       "      <td>PONATINIB</td>\n",
       "      <td>CHEMBL1171837</td>\n",
       "      <td>4.0</td>\n",
       "      <td>24.583333</td>\n",
       "      <td></td>\n",
       "      <td>0.0</td>\n",
       "      <td>24.583333</td>\n",
       "      <td>0</td>\n",
       "    </tr>\n",
       "    <tr>\n",
       "      <th>22</th>\n",
       "      <td>Cannabidiol</td>\n",
       "      <td>CHEMBL190461</td>\n",
       "      <td>4.0</td>\n",
       "      <td>21.833333</td>\n",
       "      <td>Diabetes Mellitus, Type 2;Coronary Artery Disease</td>\n",
       "      <td>2.0</td>\n",
       "      <td>23.833333</td>\n",
       "      <td>1</td>\n",
       "    </tr>\n",
       "    <tr>\n",
       "      <th>27</th>\n",
       "      <td>ADAPALENE</td>\n",
       "      <td>CHEMBL1265</td>\n",
       "      <td>4.0</td>\n",
       "      <td>23.166667</td>\n",
       "      <td></td>\n",
       "      <td>0.0</td>\n",
       "      <td>23.166667</td>\n",
       "      <td>0</td>\n",
       "    </tr>\n",
       "    <tr>\n",
       "      <th>28</th>\n",
       "      <td>PANOBINOSTAT</td>\n",
       "      <td>CHEMBL483254</td>\n",
       "      <td>4.0</td>\n",
       "      <td>23.166667</td>\n",
       "      <td></td>\n",
       "      <td>0.0</td>\n",
       "      <td>23.166667</td>\n",
       "      <td>0</td>\n",
       "    </tr>\n",
       "  </tbody>\n",
       "</table>\n",
       "</div>"
      ],
      "text/plain": [
       "               Drug      CHEMBL ID  Clinical Phase  D2V Score  \\\n",
       "2         BOSUTINIB   CHEMBL288441             4.0  29.375000   \n",
       "4       THALIDOMIDE      CHEMBL468             4.0  28.083333   \n",
       "6           ASPIRIN       CHEMBL25             4.0  27.833333   \n",
       "12      MIDOSTAURIN   CHEMBL608533             4.0  24.750000   \n",
       "14      REGORAFENIB  CHEMBL1946170             4.0  24.916667   \n",
       "17  Pseudoephedrine     CHEMBL1590             4.0  23.708333   \n",
       "18        PONATINIB  CHEMBL1171837             4.0  24.583333   \n",
       "22      Cannabidiol   CHEMBL190461             4.0  21.833333   \n",
       "27        ADAPALENE     CHEMBL1265             4.0  23.166667   \n",
       "28     PANOBINOSTAT   CHEMBL483254             4.0  23.166667   \n",
       "\n",
       "                                          Comorbidity  Comorbidity Counts  \\\n",
       "2   Coronary Artery Disease;Diabetes Mellitus, Type 2                 2.0   \n",
       "4                                                                     0.0   \n",
       "6                                                                     0.0   \n",
       "12                             Essential Hypertension                 1.0   \n",
       "14                                                                    0.0   \n",
       "17                             Essential Hypertension                 1.0   \n",
       "18                                                                    0.0   \n",
       "22  Diabetes Mellitus, Type 2;Coronary Artery Disease                 2.0   \n",
       "27                                                                    0.0   \n",
       "28                                                                    0.0   \n",
       "\n",
       "    Rating Score  Clinical Trial  \n",
       "2      31.375000               0  \n",
       "4      28.083333               1  \n",
       "6      27.833333               1  \n",
       "12     25.750000               0  \n",
       "14     24.916667               0  \n",
       "17     24.708333               0  \n",
       "18     24.583333               0  \n",
       "22     23.833333               1  \n",
       "27     23.166667               0  \n",
       "28     23.166667               0  "
      ]
     },
     "execution_count": 46,
     "metadata": {},
     "output_type": "execute_result"
    }
   ],
   "source": [
    "drugs_rank_approv[:10]"
   ]
  },
  {
   "cell_type": "code",
   "execution_count": 51,
   "metadata": {},
   "outputs": [],
   "source": [
    "all_drugs = drugs['ChEMBL'].unique()"
   ]
  },
  {
   "cell_type": "code",
   "execution_count": 55,
   "metadata": {},
   "outputs": [
    {
     "data": {
      "text/plain": [
       "224"
      ]
     },
     "execution_count": 55,
     "metadata": {},
     "output_type": "execute_result"
    }
   ],
   "source": [
    "len(set(all_drugs) & set(clinicaltrial_all))"
   ]
  },
  {
   "cell_type": "code",
   "execution_count": 56,
   "metadata": {},
   "outputs": [
    {
     "data": {
      "text/plain": [
       "159"
      ]
     },
     "execution_count": 56,
     "metadata": {},
     "output_type": "execute_result"
    }
   ],
   "source": [
    "len(set(all_drugs) & set(clinicaltrial_approv))"
   ]
  },
  {
   "cell_type": "code",
   "execution_count": 91,
   "metadata": {},
   "outputs": [],
   "source": [
    "drugs_rank.to_csv('./drug_candidate.csv',index=False)"
   ]
  },
  {
   "cell_type": "code",
   "execution_count": null,
   "metadata": {},
   "outputs": [],
   "source": []
  },
  {
   "cell_type": "code",
   "execution_count": null,
   "metadata": {},
   "outputs": [],
   "source": []
  },
  {
   "cell_type": "markdown",
   "metadata": {},
   "source": [
    "---"
   ]
  },
  {
   "cell_type": "code",
   "execution_count": 26,
   "metadata": {},
   "outputs": [],
   "source": [
    "anno_reposition[\n",
    "    'Direction Type Score'] = anno_reposition[\n",
    "        'Direction Type'].map({\n",
    "            'DEG': 0.5,\n",
    "            'CRISPR-Screening': 1,\n",
    "            'eQTL': 1,\n",
    "        })\n",
    "\n",
    "\n",
    "dti_median = drugs['interaction_group_score'].median()\n",
    "anno_reposition['DTI Score Norm'] = 0\n",
    "anno_reposition['DTI Score Norm'] = anno_reposition['DTI Score Norm'].where(anno_reposition['DTI Score']<=dti_median, 1)\n",
    "# anno_reposition['DTI Score Norm'] = drugs['interaction_group_score']/drugs['interaction_group_score'].max()\n",
    "\n",
    "\n",
    "anno_reposition['SARS-CoV2'] = 1\n",
    "anno_reposition['SARS-CoV2'] = anno_reposition['SARS-CoV2'].where(anno_reposition['Virus']=='SARS-CoV2', 0)"
   ]
  },
  {
   "cell_type": "code",
   "execution_count": 30,
   "metadata": {},
   "outputs": [],
   "source": [
    "anno_reposition['Rating Score'] = anno_reposition['SARS-CoV2']*0.5 +\\\n",
    "    anno_reposition['Direction Type Score']\\\n",
    "    + anno_reposition['RWR Prob'] + \\\n",
    "    anno_reposition['DTI Score Norm'] - anno_reposition['Side Effect Counts'] + \\\n",
    "    anno_reposition['Comorbidity Counts']*0.1"
   ]
  },
  {
   "cell_type": "code",
   "execution_count": 31,
   "metadata": {},
   "outputs": [],
   "source": [
    "anno_reposition = anno_reposition.sort_values('Rating Score', ascending=False)"
   ]
  },
  {
   "cell_type": "code",
   "execution_count": 102,
   "metadata": {},
   "outputs": [],
   "source": [
    "with open('./repo_drugs.txt','w') as f:\n",
    "    f.write('\\n'.join(anno_reposition['Drug'].unique()))"
   ]
  },
  {
   "cell_type": "code",
   "execution_count": 104,
   "metadata": {},
   "outputs": [],
   "source": [
    "drugs_chembl = pd.read_csv('./drugs_chembl.txt',sep='\\t',header=None)\n",
    "drugs_chembl = drugs_chembl.drop_duplicates(0)\n",
    "drugs_chembl = pd.Series(index=drugs_chembl[0].values, data=drugs_chembl[1].values)\n",
    "anno_reposition['ChEMBL_guess'] = anno_reposition['Drug'].map(drugs_chembl)"
   ]
  },
  {
   "cell_type": "code",
   "execution_count": null,
   "metadata": {},
   "outputs": [],
   "source": []
  }
 ],
 "metadata": {
  "interpreter": {
   "hash": "a1852852a54f335c38f054e222e16757ddbab710338061d9f01de5429468464f"
  },
  "kernelspec": {
   "display_name": "Python 3.8.5 ('base')",
   "language": "python",
   "name": "python3"
  },
  "language_info": {
   "codemirror_mode": {
    "name": "ipython",
    "version": 3
   },
   "file_extension": ".py",
   "mimetype": "text/x-python",
   "name": "python",
   "nbconvert_exporter": "python",
   "pygments_lexer": "ipython3",
   "version": "3.8.5"
  },
  "orig_nbformat": 4
 },
 "nbformat": 4,
 "nbformat_minor": 2
}
