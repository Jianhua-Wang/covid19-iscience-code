{
 "cells": [
  {
   "cell_type": "code",
   "execution_count": 3,
   "metadata": {},
   "outputs": [],
   "source": [
    "import requests\n",
    "from bs4 import BeautifulSoup\n",
    "from multiprocessing import Pool\n",
    "import pandas as pd"
   ]
  },
  {
   "cell_type": "code",
   "execution_count": 8,
   "metadata": {},
   "outputs": [],
   "source": [
    "def get_chemblID(pubchemID):\n",
    "    comp_url = 'https://pubchem.ncbi.nlm.nih.gov/rest/pug_view/data/compound'\n",
    "    comp_res = requests.get(f'{comp_url}/{pubchemID}/JSON/?response_type=display')\n",
    "    soup = comp_res.json()\n",
    "    try:\n",
    "        a = soup['Record']\n",
    "        for b in a['Section']:\n",
    "            if b['TOCHeading'] == 'Names and Identifiers':\n",
    "                for c in b['Section']:\n",
    "                    if c['TOCHeading'] == 'Synonyms':\n",
    "                        for d in c['Section']:\n",
    "                            if d['TOCHeading'] == 'Depositor-Supplied Synonyms':\n",
    "                                for i in d['Information'][0]['Value']['StringWithMarkup']:\n",
    "                                    if i['String'].startswith('CHEMBL'):\n",
    "                                        return i['String']\n",
    "                                break\n",
    "                        break\n",
    "                break\n",
    "    except:\n",
    "        return None"
   ]
  },
  {
   "cell_type": "code",
   "execution_count": 27,
   "metadata": {},
   "outputs": [],
   "source": [
    "def get_maxpahse(chembl_id):\n",
    "    try:\n",
    "        chem_api = f'https://www.ebi.ac.uk/chembl/api/data/drug/{chembl_id}?format=json'\n",
    "        res = requests.get(chem_api)\n",
    "        res = res.json()\n",
    "        return res.get('development_phase')\n",
    "    except:\n",
    "        return None"
   ]
  },
  {
   "cell_type": "code",
   "execution_count": 22,
   "metadata": {},
   "outputs": [],
   "source": [
    "raw_clinical = pd.read_csv('./PubChem_compound_text_covid-19 clinicaltrials.csv')\n",
    "raw_clinical = raw_clinical[['cid','cmpdname']].drop_duplicates('cid')"
   ]
  },
  {
   "cell_type": "code",
   "execution_count": 23,
   "metadata": {},
   "outputs": [],
   "source": [
    "for i in raw_clinical.index:\n",
    "    raw_clinical.at[i,'ChEMBL ID'] = get_chemblID(raw_clinical.loc[i,'cid'])"
   ]
  },
  {
   "cell_type": "code",
   "execution_count": 30,
   "metadata": {},
   "outputs": [],
   "source": [
    "raw_clinical['Clinical_phase'] = 0\n",
    "for i in raw_clinical.index:\n",
    "    raw_clinical.at[i,'Clinical_phase'] = get_maxpahse(raw_clinical.loc[i,'ChEMBL ID'])"
   ]
  },
  {
   "cell_type": "code",
   "execution_count": 32,
   "metadata": {},
   "outputs": [],
   "source": [
    "raw_clinical.to_csv('./clinicaltrial.csv',index=False)"
   ]
  },
  {
   "cell_type": "markdown",
   "metadata": {},
   "source": [
    "---"
   ]
  },
  {
   "cell_type": "code",
   "execution_count": 67,
   "metadata": {},
   "outputs": [],
   "source": [
    "raw_clinical = pd.read_csv('./PubChem_compound_text_covid-19 clinicaltrials.csv')\n",
    "raw_clinical = raw_clinical[['cid','cmpdname']].drop_duplicates('cid')"
   ]
  },
  {
   "cell_type": "code",
   "execution_count": 68,
   "metadata": {},
   "outputs": [],
   "source": [
    "cid2chembl = pd.read_csv('./clinicaltri_cid2chembl.txt',sep='\\t',header=None)\n",
    "synonyms2chembl = pd.read_csv('./clinicaltri_synonyms2chembl.txt',sep='\\t',header=None)\n"
   ]
  },
  {
   "cell_type": "code",
   "execution_count": 69,
   "metadata": {},
   "outputs": [],
   "source": [
    "cid2chembl = cid2chembl.drop_duplicates(0)\n",
    "cid2chembl = pd.Series(index=cid2chembl[0].values, data=cid2chembl[1].values)\n",
    "synonyms2chembl = synonyms2chembl.drop_duplicates(0)\n",
    "synonyms2chembl = pd.Series(index=synonyms2chembl[0].values, data=synonyms2chembl[1].values)"
   ]
  },
  {
   "cell_type": "code",
   "execution_count": 70,
   "metadata": {},
   "outputs": [],
   "source": [
    "raw_clinical['chembl1'] = raw_clinical['cid'].map(cid2chembl)\n",
    "raw_clinical['chembl2'] = raw_clinical['cmpdname'].map(synonyms2chembl)\n"
   ]
  },
  {
   "cell_type": "code",
   "execution_count": 71,
   "metadata": {},
   "outputs": [],
   "source": [
    "raw_clinical['ChEMBL'] = raw_clinical['chembl1']\n",
    "raw_clinical['ChEMBL'] = raw_clinical['chembl2'].where(((raw_clinical['chembl1'].isnull())&(raw_clinical['chembl2'].notnull())),raw_clinical['ChEMBL'])\n",
    "raw_clinical = raw_clinical[raw_clinical['ChEMBL'].notnull()][['cid','cmpdname','ChEMBL']]\n",
    "raw_clinical.to_csv('./clinicaltrial.csv', index=False)"
   ]
  },
  {
   "cell_type": "code",
   "execution_count": 73,
   "metadata": {},
   "outputs": [],
   "source": [
    "raw_clinical['Clinical_phase'] = 0\n",
    "for i in raw_clinical.index:\n",
    "    raw_clinical.at[i,'Clinical_phase'] = get_maxpahse(raw_clinical.loc[i,'ChEMBL'])"
   ]
  },
  {
   "cell_type": "code",
   "execution_count": 75,
   "metadata": {},
   "outputs": [],
   "source": [
    "raw_clinical['Clinical_phase'] = raw_clinical['Clinical_phase'].fillna(0)"
   ]
  },
  {
   "cell_type": "code",
   "execution_count": 76,
   "metadata": {},
   "outputs": [],
   "source": [
    "raw_clinical.to_csv('./clinicaltrial.csv', index=False)"
   ]
  },
  {
   "cell_type": "code",
   "execution_count": null,
   "metadata": {},
   "outputs": [],
   "source": []
  }
 ],
 "metadata": {
  "interpreter": {
   "hash": "a1852852a54f335c38f054e222e16757ddbab710338061d9f01de5429468464f"
  },
  "kernelspec": {
   "display_name": "Python 3.8.5 ('base')",
   "language": "python",
   "name": "python3"
  },
  "language_info": {
   "codemirror_mode": {
    "name": "ipython",
    "version": 3
   },
   "file_extension": ".py",
   "mimetype": "text/x-python",
   "name": "python",
   "nbconvert_exporter": "python",
   "pygments_lexer": "ipython3",
   "version": "3.8.5"
  },
  "orig_nbformat": 4
 },
 "nbformat": 4,
 "nbformat_minor": 2
}
