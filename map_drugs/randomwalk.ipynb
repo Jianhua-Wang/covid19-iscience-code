{
 "cells": [
  {
   "cell_type": "code",
   "execution_count": 1,
   "metadata": {},
   "outputs": [],
   "source": [
    "import networkx as nx\n",
    "import numpy as np\n",
    "import pandas as pd"
   ]
  },
  {
   "cell_type": "code",
   "execution_count": 2,
   "metadata": {},
   "outputs": [],
   "source": [
    "ppi = pd.read_csv('./all_interaction_dir.csv')\n",
    "ppi['weighted'] = 1\n",
    "dirs = pd.Series(index=(ppi['Entrez_A'].astype(str)+':'+ppi['Entrez_B'].astype(str)).values,data=ppi['Direction'].values)\n",
    "\n",
    "G = nx.DiGraph()\n",
    "G.add_weighted_edges_from(np.array(ppi[['Entrez_A', 'Entrez_B', 'weighted']].values))\n",
    "cutoff = 1/len(G.nodes)\n",
    "\n",
    "drug_info = pd.read_csv('./drug_targets.csv')\n",
    "drug_targets = []\n",
    "for drug in drug_info['entrez_id'].unique():\n",
    "    if drug in G:\n",
    "        drug_targets.append(int(drug))"
   ]
  },
  {
   "cell_type": "code",
   "execution_count": 3,
   "metadata": {},
   "outputs": [],
   "source": [
    "out_cols = ['source','target','prob','path','direction']\n",
    "with open('./rwr_res.csv','w') as f:\n",
    "    f.write(','.join(out_cols)+'\\n')\n",
    "\n",
    "for seed in drug_targets:\n",
    "    pagerank = nx.pagerank_scipy(G, alpha=0.3, personalization={seed: 1})\n",
    "    pagerank = pd.Series(pagerank)\n",
    "    pagerank = pagerank.sort_values(ascending=False)\n",
    "    pagerank = pagerank[(pagerank>cutoff)&(pagerank.index!=seed)]\n",
    "\n",
    "    pagerank_dir = pd.Series(index=pagerank.index,dtype=int)\n",
    "    pagerank_path = pd.Series(index=pagerank.index,dtype=str)\n",
    "    for target in pagerank_dir.index:\n",
    "        shortest_path = nx.shortest_path(G, source=seed, target=target)\n",
    "        direction = 1\n",
    "        path = str(seed)\n",
    "        for i,a in enumerate(shortest_path[:-1]):\n",
    "            direction = (dirs[f'{a}:{shortest_path[i+1]}'])*direction\n",
    "            if dirs[f'{a}:{shortest_path[i+1]}'] == 1:\n",
    "                path += f'->{shortest_path[i+1]}'\n",
    "            else:\n",
    "                path += f'-|{shortest_path[i+1]}'\n",
    "        pagerank_dir[target] = direction\n",
    "        pagerank_path[target] = path\n",
    "\n",
    "    res = pd.DataFrame(index=pagerank.index,columns=out_cols)\n",
    "    res['source'] = seed\n",
    "    res['target'] = pagerank.index\n",
    "    res['prob'] = pagerank\n",
    "    res['path'] = pagerank_path\n",
    "    res['direction'] = pagerank_dir\n",
    "    res.to_csv('./rwr_res.csv',mode='a',index=False,header=False)"
   ]
  },
  {
   "cell_type": "code",
   "execution_count": null,
   "metadata": {},
   "outputs": [],
   "source": []
  }
 ],
 "metadata": {
  "interpreter": {
   "hash": "a1852852a54f335c38f054e222e16757ddbab710338061d9f01de5429468464f"
  },
  "kernelspec": {
   "display_name": "Python 3.8.5 ('base')",
   "language": "python",
   "name": "python3"
  },
  "language_info": {
   "codemirror_mode": {
    "name": "ipython",
    "version": 3
   },
   "file_extension": ".py",
   "mimetype": "text/x-python",
   "name": "python",
   "nbconvert_exporter": "python",
   "pygments_lexer": "ipython3",
   "version": "3.8.5"
  },
  "orig_nbformat": 4
 },
 "nbformat": 4,
 "nbformat_minor": 2
}
