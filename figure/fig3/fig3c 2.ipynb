{
 "cells": [
  {
   "cell_type": "code",
   "execution_count": 1,
   "metadata": {},
   "outputs": [],
   "source": [
    "import pandas as pd\n",
    "from sklearn.metrics import roc_curve, auc\n",
    "import matplotlib.pyplot as plt\n",
    "import matplotlib as mpl\n",
    "mpl.rcParams['font.serif'] = 'Arial'\n",
    "mpl.rcParams['pdf.fonttype'] = 42\n",
    "%matplotlib inline"
   ]
  },
  {
   "cell_type": "markdown",
   "metadata": {},
   "source": [
    "## validation"
   ]
  },
  {
   "cell_type": "code",
   "execution_count": 2,
   "metadata": {},
   "outputs": [],
   "source": [
    "n_genes = 100"
   ]
  },
  {
   "cell_type": "markdown",
   "metadata": {},
   "source": [
    "### gse152586"
   ]
  },
  {
   "cell_type": "code",
   "execution_count": 25,
   "metadata": {},
   "outputs": [],
   "source": [
    "gse152586 = pd.read_csv('../../source_with_direction/PPI/DEGs/SARS-CoV2_GSE152586_iDEP.csv')\n",
    "gse152586 = gse152586[(gse152586['adj-P-Val']<=0.05)&(gse152586['Symbol'].notnull())].sort_values('logFC')\n",
    "gse152586_activate = gse152586['Symbol'].values[-n_genes:]\n",
    "gse152586_inhibit = gse152586['Symbol'].values[:n_genes]\n",
    "\n",
    "with open(f'./gse152586_activate_top{n_genes}.txt', 'w') as f:\n",
    "    f.write('\\n'.join(gse152586_activate)+'\\n')\n",
    "\n",
    "with open(f'./gse152586_inhibit_top{n_genes}.txt', 'w') as f:\n",
    "    f.write('\\n'.join(gse152586_inhibit)+'\\n')"
   ]
  },
  {
   "cell_type": "markdown",
   "metadata": {},
   "source": [
    "### gse154783"
   ]
  },
  {
   "cell_type": "code",
   "execution_count": 40,
   "metadata": {},
   "outputs": [],
   "source": [
    "gse154783 = pd.read_csv('../../source_with_direction/PPI/DEGs/SARS-CoV2_GSE154783_DESeq2.txt.gz',sep='\\t')\n",
    "gse154783 = gse154783[(gse154783['hmgb1.padj']<=0.05)&(gse154783['gene_id'].notnull())].sort_values('hmgb1.l2fc')\n",
    "gse154783_activate = gse154783['gene_id'].values[:n_genes]\n",
    "gse154783_inhibit = gse154783['gene_id'].values[-n_genes:]\n",
    "\n",
    "with open(f'./gse154783_activate_top{n_genes}.txt', 'w') as f:\n",
    "    f.write('\\n'.join(gse154783_activate)+'\\n')\n",
    "\n",
    "with open(f'./gse154783_inhibit_top{n_genes}.txt', 'w') as f:\n",
    "    f.write('\\n'.join(gse154783_inhibit)+'\\n')"
   ]
  },
  {
   "cell_type": "markdown",
   "metadata": {},
   "source": [
    "### gse152418"
   ]
  },
  {
   "cell_type": "code",
   "execution_count": 3,
   "metadata": {},
   "outputs": [],
   "source": [
    "gse152418 = pd.read_csv('./GSE152418_iDEP.csv')\n",
    "gse152418 = gse152418[(gse152418['Ctrl-COV___padj']<=0.05)&(gse152418['Symbol'].notnull())].sort_values('Ctrl-COV___log2FoldChange')\n",
    "gse152418_activate = gse152418['Symbol'].values[-n_genes:]\n",
    "gse152418_inhibit = gse152418['Symbol'].values[:n_genes]\n",
    "\n",
    "with open(f'./gse152418_activate_top{n_genes}.txt', 'w') as f:\n",
    "    f.write('\\n'.join(gse152418_activate)+'\\n')\n",
    "\n",
    "with open(f'./gse152418_inhibit_top{n_genes}.txt', 'w') as f:\n",
    "    f.write('\\n'.join(gse152418_inhibit)+'\\n')"
   ]
  },
  {
   "cell_type": "markdown",
   "metadata": {},
   "source": [
    "### gse171110"
   ]
  },
  {
   "cell_type": "code",
   "execution_count": 4,
   "metadata": {},
   "outputs": [],
   "source": [
    "gse171110 = pd.read_csv('./GSE171110_iDEP.csv')\n",
    "gse171110 = gse171110[(gse171110['Ctrl-COV___padj']<=0.05)&(gse171110['Symbol'].notnull())].sort_values('Ctrl-COV___log2FoldChange')\n",
    "gse171110_activate = gse171110['Symbol'].values[-n_genes:]\n",
    "gse171110_inhibit = gse171110['Symbol'].values[:n_genes]\n",
    "\n",
    "with open(f'./gse171110_activate_top{n_genes}.txt', 'w') as f:\n",
    "    f.write('\\n'.join(gse171110_activate)+'\\n')\n",
    "\n",
    "with open(f'./gse171110_inhibit_top{n_genes}.txt', 'w') as f:\n",
    "    f.write('\\n'.join(gse171110_inhibit)+'\\n')"
   ]
  },
  {
   "cell_type": "markdown",
   "metadata": {},
   "source": [
    "## run on CMAP clue.io"
   ]
  },
  {
   "cell_type": "markdown",
   "metadata": {},
   "source": [
    "## annotate clinical trial"
   ]
  },
  {
   "cell_type": "code",
   "execution_count": 64,
   "metadata": {},
   "outputs": [],
   "source": [
    "clinicaltrial = pd.read_csv('../../map_drugs/clinicaltrial.csv')\n",
    "clinicaltrial_all = clinicaltrial['ChEMBL'].unique()"
   ]
  },
  {
   "cell_type": "code",
   "execution_count": 65,
   "metadata": {},
   "outputs": [],
   "source": [
    "cmapID_map = pd.read_csv('./cmap_IDmap.txt',sep='\\t', header=None)\n",
    "cmapID_map = cmapID_map.drop_duplicates(0)\n",
    "cmapID_map = pd.Series(index=cmapID_map[0].values, data=cmapID_map[1].values)"
   ]
  },
  {
   "cell_type": "code",
   "execution_count": 66,
   "metadata": {},
   "outputs": [],
   "source": [
    "gse152586_res = pd.read_csv('./GSE152586-50_cmap.txt',sep='\\t')\n",
    "gse152586_res['ChEMBL'] = gse152586_res['Name'].map(cmapID_map)\n",
    "gse152586_res = gse152586_res[gse152586_res['ChEMBL'].notnull()].drop_duplicates('ChEMBL')\n",
    "gse152586_res['Clinical Trial'] = 1\n",
    "gse152586_res['Clinical Trial'] = gse152586_res['Clinical Trial'].where(gse152586_res['ChEMBL'].isin(clinicaltrial_all), 0)\n",
    "gse152586_res['prediction'] = gse152586_res['Score'] - gse152586_res['Score'].min()\n",
    "gse152586_res['prediction'] = gse152586_res['prediction']/gse152586_res['prediction'].max()"
   ]
  },
  {
   "cell_type": "code",
   "execution_count": 67,
   "metadata": {},
   "outputs": [],
   "source": [
    "gse154783_res = pd.read_csv('./GSE154783-50_cmap.txt',sep='\\t')\n",
    "gse154783_res['ChEMBL'] = gse154783_res['Name'].map(cmapID_map)\n",
    "gse154783_res = gse154783_res[gse154783_res['ChEMBL'].notnull()].drop_duplicates('ChEMBL')\n",
    "gse154783_res['Clinical Trial'] = 1\n",
    "gse154783_res['Clinical Trial'] = gse154783_res['Clinical Trial'].where(gse154783_res['ChEMBL'].isin(clinicaltrial_all), 0)\n",
    "gse154783_res['prediction'] = gse154783_res['Score'] - gse154783_res['Score'].min()\n",
    "gse154783_res['prediction'] = gse154783_res['prediction']/gse154783_res['prediction'].max()"
   ]
  },
  {
   "cell_type": "markdown",
   "metadata": {},
   "source": [
    "## ROC curve"
   ]
  },
  {
   "cell_type": "code",
   "execution_count": 68,
   "metadata": {},
   "outputs": [],
   "source": [
    "jianhua_res = pd.read_csv('../../map_drugs/drugs_rank.csv')\n",
    "jianhua_res['prediction'] = jianhua_res['Rating Score']-jianhua_res['Rating Score'].min()\n",
    "jianhua_res['prediction'] = jianhua_res['prediction']/jianhua_res['prediction'].max()"
   ]
  },
  {
   "cell_type": "code",
   "execution_count": 69,
   "metadata": {},
   "outputs": [],
   "source": [
    "jianhua_res = jianhua_res[jianhua_res['CHEMBL ID'].isin(gse152586_res['ChEMBL'].unique())]\n",
    "gse152586_res = gse152586_res[gse152586_res['ChEMBL'].isin(jianhua_res['CHEMBL ID'].unique())]\n",
    "gse154783_res = gse154783_res[gse154783_res['ChEMBL'].isin(jianhua_res['CHEMBL ID'].unique())]"
   ]
  },
  {
   "cell_type": "code",
   "execution_count": 70,
   "metadata": {},
   "outputs": [
    {
     "data": {
      "text/plain": [
       "935"
      ]
     },
     "execution_count": 70,
     "metadata": {},
     "output_type": "execute_result"
    }
   ],
   "source": [
    "len(gse152586_res['ChEMBL'].unique())"
   ]
  },
  {
   "cell_type": "markdown",
   "metadata": {},
   "source": [
    "## ROC"
   ]
  },
  {
   "cell_type": "code",
   "execution_count": 71,
   "metadata": {},
   "outputs": [
    {
     "data": {
      "text/plain": [
       "<matplotlib.legend.Legend at 0x7fa2f4bacd30>"
      ]
     },
     "execution_count": 71,
     "metadata": {},
     "output_type": "execute_result"
    },
    {
     "data": {
      "image/png": "[encoded data removed]",
      "text/plain": [
       "<Figure size 432x360 with 1 Axes>"
      ]
     },
     "metadata": {
      "needs_background": "light"
     },
     "output_type": "display_data"
    }
   ],
   "source": [
    "f, ax = plt.subplots(figsize=(6,5))\n",
    "\n",
    "def draw_roc(df, name, color):\n",
    "    y_label = df['Clinical Trial'].values\n",
    "    y_pre = df['prediction'].values\n",
    "    fpr, tpr, _ = roc_curve(y_label, y_pre, pos_label=1)\n",
    "    roc_auc = auc(fpr, tpr)\n",
    "    ax.plot(fpr, tpr, '-', label=f'{name} (AUC = {roc_auc:.2f})', lw=2, color=color)\n",
    "\n",
    "draw_roc(jianhua_res, 'This paper','#FF8076')\n",
    "draw_roc(gse152586_res, 'CMAP GSE152586','#79B1D1')\n",
    "draw_roc(gse154783_res, 'CMAP GSE154783','#FFB46A')\n",
    "ax.plot([0, 1], [0, 1], 'k--', color='grey')\n",
    "ax.set_xlim([-0.05, 1.05])\n",
    "ax.set_ylim([-0.05, 1.05])\n",
    "ax.set_xlabel('False Positive Rate', fontsize=14)\n",
    "ax.set_ylabel('True Positive Rate', fontsize=14)\n",
    "# ax.set_title('ROC Curve')\n",
    "ax.legend(loc=\"lower right\")\n",
    "# f.savefig('./Fig3c.pdf')"
   ]
  },
  {
   "cell_type": "markdown",
   "metadata": {},
   "source": [
    "## PR"
   ]
  },
  {
   "cell_type": "code",
   "execution_count": 72,
   "metadata": {},
   "outputs": [],
   "source": [
    "from sklearn.metrics import precision_recall_curve, average_precision_score"
   ]
  },
  {
   "cell_type": "code",
   "execution_count": 73,
   "metadata": {},
   "outputs": [
    {
     "data": {
      "image/png": "[encoded data removed]",
      "text/plain": [
       "<Figure size 432x360 with 1 Axes>"
      ]
     },
     "metadata": {
      "needs_background": "light"
     },
     "output_type": "display_data"
    }
   ],
   "source": [
    "f, ax = plt.subplots(figsize=(6,5))\n",
    "\n",
    "def draw_roc(df, name, color):\n",
    "    y_label = df['Clinical Trial'].values\n",
    "    y_pre = df['prediction'].values\n",
    "    percision, recall, _ = precision_recall_curve(y_label, y_pre)\n",
    "    aupr = average_precision_score(y_label, y_pre)\n",
    "    ax.plot(recall, percision, '-', label=f'{name} (AUC = {aupr:.2f})', lw=2, color=color)\n",
    "\n",
    "draw_roc(jianhua_res, 'This paper','#FF8076')\n",
    "draw_roc(gse152586_res, 'CMAP GSE152586','#79B1D1')\n",
    "draw_roc(gse154783_res, 'CMAP GSE154783','#FFB46A')\n",
    "ax.plot([0, 1], [0, 1], 'k--', color='grey')\n",
    "ax.set_xlim([-0.05, 1.05])\n",
    "ax.set_ylim([-0.05, 1.05])\n",
    "ax.set_ylabel('Percision', fontsize=14)\n",
    "ax.set_xlabel('Recall', fontsize=14)\n",
    "# ax.set_title('ROC Curve')\n",
    "ax.legend(loc=\"lower right\")\n",
    "f.savefig('./AUPR.pdf')"
   ]
  },
  {
   "cell_type": "markdown",
   "metadata": {},
   "source": [
    "## Overlap with other methods"
   ]
  },
  {
   "cell_type": "code",
   "execution_count": null,
   "metadata": {},
   "outputs": [],
   "source": [
    "{'PNAS': 'DatasetS8.xlsx',\n",
    " 'chenfeixiong': 'Drug_screening.xlsx',\n",
    " }\n"
   ]
  },
  {
   "cell_type": "code",
   "execution_count": 57,
   "metadata": {},
   "outputs": [],
   "source": [
    "jianhua_res = pd.read_csv('../../map_drugs/drugs_rank.csv')"
   ]
  },
  {
   "cell_type": "code",
   "execution_count": 58,
   "metadata": {},
   "outputs": [],
   "source": [
    "overlap = jianhua_res[['Drug', 'CHEMBL ID', 'Clinical Phase','Clinical Trial']].copy()\n",
    "overlap['Rank in our method'] = overlap.index+1"
   ]
  },
  {
   "cell_type": "code",
   "execution_count": 59,
   "metadata": {},
   "outputs": [],
   "source": [
    "pnas = pd.read_excel('./overlap/Barabasi.xlsx')\n",
    "pnas = pnas.drop_duplicates('ChEMBL')\n",
    "pnas = pd.Series(index=pnas['ChEMBL'].values, data=pnas['Rank'].values)\n",
    "overlap['Rank in Gysi, D. M. et al.'] = overlap['CHEMBL ID'].map(pnas)"
   ]
  },
  {
   "cell_type": "code",
   "execution_count": 60,
   "metadata": {},
   "outputs": [],
   "source": [
    "feixiong = pd.read_excel('./overlap/feixiong.xlsx')\n",
    "feixiong = feixiong.drop_duplicates('ChEMBL')\n",
    "feixiong = pd.Series(index=feixiong['ChEMBL'].values, data=feixiong['Rank'].values)\n",
    "overlap['Rank in Zhou, Y. et al.'] = overlap['CHEMBL ID'].map(feixiong)"
   ]
  },
  {
   "cell_type": "code",
   "execution_count": 61,
   "metadata": {},
   "outputs": [],
   "source": [
    "overlap = overlap[(overlap.iloc[:,-2]<=500)&(overlap.iloc[:,-1]<=500)&(overlap.iloc[:,-3]<=500)]"
   ]
  },
  {
   "cell_type": "code",
   "execution_count": 62,
   "metadata": {},
   "outputs": [],
   "source": [
    "for col in overlap.columns[2:]:\n",
    "    overlap[col] = overlap[col].astype(int)"
   ]
  },
  {
   "cell_type": "code",
   "execution_count": 74,
   "metadata": {},
   "outputs": [
    {
     "data": {
      "text/plain": [
       "22"
      ]
     },
     "execution_count": 74,
     "metadata": {},
     "output_type": "execute_result"
    }
   ],
   "source": [
    "len(overlap)"
   ]
  },
  {
   "cell_type": "code",
   "execution_count": 75,
   "metadata": {},
   "outputs": [
    {
     "data": {
      "text/plain": [
       "CHEMBL163          1\n",
       "CHEMBL64           2\n",
       "CHEMBL564085       3\n",
       "CHEMBL799          4\n",
       "CHEMBL76           5\n",
       "                ... \n",
       "CHEMBL428880     973\n",
       "CHEMBL918        974\n",
       "CHEMBL1493       975\n",
       "CHEMBL3301675    976\n",
       "CHEMBL734        977\n",
       "Length: 958, dtype: int64"
      ]
     },
     "execution_count": 75,
     "metadata": {},
     "output_type": "execute_result"
    }
   ],
   "source": [
    "pnas"
   ]
  },
  {
   "cell_type": "code",
   "execution_count": 76,
   "metadata": {},
   "outputs": [],
   "source": [
    "a = jianhua_res[:500]['CHEMBL ID'].unique()"
   ]
  },
  {
   "cell_type": "code",
   "execution_count": 81,
   "metadata": {},
   "outputs": [],
   "source": [
    "b = pnas.iloc[:500].index\n",
    "c = feixiong.iloc[:500].index"
   ]
  },
  {
   "cell_type": "code",
   "execution_count": 82,
   "metadata": {},
   "outputs": [],
   "source": [
    "from matplotlib_venn import venn2,venn2_circles,venn3,venn3_circles"
   ]
  },
  {
   "cell_type": "code",
   "execution_count": 84,
   "metadata": {},
   "outputs": [
    {
     "data": {
      "image/png": "[encoded data removed]",
      "text/plain": [
       "<Figure size 360x360 with 1 Axes>"
      ]
     },
     "metadata": {},
     "output_type": "display_data"
    }
   ],
   "source": [
    "f, ax = plt.subplots(figsize=(5, 5))\n",
    "g = venn3([set(a), set(b), set(c)],\n",
    "          ax=ax,\n",
    "          set_colors=['#F8EFC1', '#B1DEF3','#F9BABA'],\n",
    "          set_labels=['Our method', 'Gysi, D. M. et al.','Zhou, Y. et al.'])\n",
    "v = venn3_circles(\n",
    "    [set(a), set(b), set(c)],\n",
    "    ax=ax,\n",
    ")\n",
    "v[0].set_edgecolor('#F5EBB4')\n",
    "v[1].set_edgecolor('#57A9BF')\n",
    "v[2].set_edgecolor('#DDA9A2')\n",
    "# ax.set_title('All CoVs')"
   ]
  },
  {
   "cell_type": "code",
   "execution_count": null,
   "metadata": {},
   "outputs": [],
   "source": []
  }
 ],
 "metadata": {
  "interpreter": {
   "hash": "a1852852a54f335c38f054e222e16757ddbab710338061d9f01de5429468464f"
  },
  "kernelspec": {
   "display_name": "Python 3.8.8 64-bit ('base': conda)",
   "language": "python",
   "name": "python3"
  },
  "language_info": {
   "codemirror_mode": {
    "name": "ipython",
    "version": 3
   },
   "file_extension": ".py",
   "mimetype": "text/x-python",
   "name": "python",
   "nbconvert_exporter": "python",
   "pygments_lexer": "ipython3",
   "version": "3.8.3"
  },
  "orig_nbformat": 4
 },
 "nbformat": 4,
 "nbformat_minor": 2
}
