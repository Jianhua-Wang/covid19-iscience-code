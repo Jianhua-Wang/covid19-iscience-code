{
 "cells": [
  {
   "cell_type": "code",
   "execution_count": 1,
   "metadata": {},
   "outputs": [],
   "source": [
    "import pandas as pd\n",
    "import matplotlib.pyplot as plt\n",
    "from matplotlib_venn import venn2,venn3\n",
    "\n",
    "import matplotlib as mpl\n",
    "mpl.rcParams['font.serif'] = 'Arial'\n",
    "mpl.rcParams['pdf.fonttype'] = 42"
   ]
  },
  {
   "cell_type": "code",
   "execution_count": 2,
   "metadata": {},
   "outputs": [],
   "source": [
    "ppi_all = pd.read_excel('/f/zhangwenwen/project/COVID-19/source/PPI/PPI_all.xlsx')"
   ]
  },
  {
   "cell_type": "code",
   "execution_count": 3,
   "metadata": {},
   "outputs": [
    {
     "data": {
      "text/plain": [
       "SARS-CoV2    1427\n",
       "SARS-CoV     1055\n",
       "MERS-CoV      296\n",
       "Name: Virus, dtype: int64"
      ]
     },
     "execution_count": 3,
     "metadata": {},
     "output_type": "execute_result"
    }
   ],
   "source": [
    "ppi_all['Virus'].value_counts()"
   ]
  },
  {
   "cell_type": "code",
   "execution_count": 4,
   "metadata": {},
   "outputs": [
    {
     "data": {
      "text/plain": [
       "<matplotlib_venn._common.VennDiagram at 0x7f23dca675b0>"
      ]
     },
     "execution_count": 4,
     "metadata": {},
     "output_type": "execute_result"
    },
    {
     "data": {
      "image/png": "[encoded data removed]",
      "text/plain": [
       "<Figure size 360x360 with 1 Axes>"
      ]
     },
     "metadata": {},
     "output_type": "display_data"
    }
   ],
   "source": [
    "list_a = ppi_all[ppi_all['Virus']=='MERS-CoV']['Host Gene'].values\n",
    "list_b = ppi_all[ppi_all['Virus']=='SARS-CoV']['Host Gene'].values\n",
    "list_c = ppi_all[ppi_all['Virus']=='SARS-CoV2']['Host Gene'].values\n",
    "\n",
    "f, ax = plt.subplots( figsize=(5,5))\n",
    "venn3([set(list_a),set(list_b),set(list_c)],\n",
    "      ax=ax,\n",
    "      set_colors=('r','g', 'b'),\n",
    "      set_labels=('MERS-CoV', 'SARS-CoV','SARS-CoV2'),)"
   ]
  },
  {
   "cell_type": "markdown",
   "metadata": {},
   "source": [
    "# Map directions"
   ]
  },
  {
   "cell_type": "markdown",
   "metadata": {},
   "source": [
    "## MERS-Cov"
   ]
  },
  {
   "cell_type": "code",
   "execution_count": 5,
   "metadata": {},
   "outputs": [
    {
     "name": "stdout",
     "output_type": "stream",
     "text": [
      "296\n"
     ]
    }
   ],
   "source": [
    "merscov = ppi_all[ppi_all['Virus']=='MERS-CoV']\n",
    "print(len(merscov))"
   ]
  },
  {
   "cell_type": "markdown",
   "metadata": {},
   "source": [
    "### GSE122876"
   ]
  },
  {
   "cell_type": "code",
   "execution_count": 6,
   "metadata": {},
   "outputs": [
    {
     "name": "stdout",
     "output_type": "stream",
     "text": [
      "1367\n"
     ]
    }
   ],
   "source": [
    "GSE122876 = pd.read_excel('/f/zhangwenwen/project/COVID-19/source_with_direction/PPI/DEGs/MERS-CoV_GSE122876_all.xlsx')\n",
    "GSE122876 = GSE122876[(GSE122876['padj'] <= 0.05) & (\n",
    "    (GSE122876['log2FoldChange'] >= 1) | (GSE122876['log2FoldChange'] <= -1))]\n",
    "print(len(GSE122876))"
   ]
  },
  {
   "cell_type": "code",
   "execution_count": 7,
   "metadata": {},
   "outputs": [
    {
     "name": "stdout",
     "output_type": "stream",
     "text": [
      "36\n"
     ]
    }
   ],
   "source": [
    "merscov_GSE122876 = merscov.merge(GSE122876,\n",
    "                                  left_on='Host Gene',\n",
    "                                  right_on='Symbol',\n",
    "                                  how='left')\n",
    "print(len(merscov_GSE122876[merscov_GSE122876['Symbol'].notnull()]))"
   ]
  },
  {
   "cell_type": "code",
   "execution_count": 8,
   "metadata": {},
   "outputs": [],
   "source": [
    "merscov_GSE122876['Direction'] = merscov_GSE122876[\n",
    "    'log2FoldChange'] / merscov_GSE122876['log2FoldChange'].abs()\n",
    "merscov_GSE122876.loc[merscov_GSE122876['Direction'].notnull(),'Direciton Type'] = 'DEG'\n",
    "merscov_GSE122876.loc[merscov_GSE122876['Direction'].notnull(),'Direction Source'] = 'GSE122876'"
   ]
  },
  {
   "cell_type": "code",
   "execution_count": 9,
   "metadata": {},
   "outputs": [],
   "source": [
    "merscov_GSE122876 = merscov_GSE122876[[\n",
    "    'Virus', 'Host Gene', 'Host Gene Type', 'Host Gene Source', 'Direction',\n",
    "    'Direciton Type', 'Direction Source'\n",
    "]]"
   ]
  },
  {
   "cell_type": "code",
   "execution_count": 10,
   "metadata": {},
   "outputs": [
    {
     "data": {
      "text/html": [
       "<div>\n",
       "<style scoped>\n",
       "    .dataframe tbody tr th:only-of-type {\n",
       "        vertical-align: middle;\n",
       "    }\n",
       "\n",
       "    .dataframe tbody tr th {\n",
       "        vertical-align: top;\n",
       "    }\n",
       "\n",
       "    .dataframe thead th {\n",
       "        text-align: right;\n",
       "    }\n",
       "</style>\n",
       "<table border=\"1\" class=\"dataframe\">\n",
       "  <thead>\n",
       "    <tr style=\"text-align: right;\">\n",
       "      <th></th>\n",
       "      <th>Virus</th>\n",
       "      <th>Host Gene</th>\n",
       "      <th>Host Gene Type</th>\n",
       "      <th>Host Gene Source</th>\n",
       "      <th>Direction</th>\n",
       "      <th>Direciton Type</th>\n",
       "      <th>Direction Source</th>\n",
       "    </tr>\n",
       "  </thead>\n",
       "  <tbody>\n",
       "    <tr>\n",
       "      <th>0</th>\n",
       "      <td>MERS-CoV</td>\n",
       "      <td>SPTLC2</td>\n",
       "      <td>AP-MS</td>\n",
       "      <td>33060197</td>\n",
       "      <td>-1.0</td>\n",
       "      <td>DEG</td>\n",
       "      <td>GSE122876</td>\n",
       "    </tr>\n",
       "    <tr>\n",
       "      <th>1</th>\n",
       "      <td>MERS-CoV</td>\n",
       "      <td>B4GAT1</td>\n",
       "      <td>AP-MS</td>\n",
       "      <td>33060197</td>\n",
       "      <td>NaN</td>\n",
       "      <td>NaN</td>\n",
       "      <td>NaN</td>\n",
       "    </tr>\n",
       "    <tr>\n",
       "      <th>2</th>\n",
       "      <td>MERS-CoV</td>\n",
       "      <td>ATP6AP2</td>\n",
       "      <td>AP-MS</td>\n",
       "      <td>33060197</td>\n",
       "      <td>-1.0</td>\n",
       "      <td>DEG</td>\n",
       "      <td>GSE122876</td>\n",
       "    </tr>\n",
       "    <tr>\n",
       "      <th>3</th>\n",
       "      <td>MERS-CoV</td>\n",
       "      <td>IGHG4</td>\n",
       "      <td>AP-MS</td>\n",
       "      <td>33060197</td>\n",
       "      <td>NaN</td>\n",
       "      <td>NaN</td>\n",
       "      <td>NaN</td>\n",
       "    </tr>\n",
       "    <tr>\n",
       "      <th>4</th>\n",
       "      <td>MERS-CoV</td>\n",
       "      <td>WLS</td>\n",
       "      <td>AP-MS</td>\n",
       "      <td>33060197</td>\n",
       "      <td>NaN</td>\n",
       "      <td>NaN</td>\n",
       "      <td>NaN</td>\n",
       "    </tr>\n",
       "    <tr>\n",
       "      <th>...</th>\n",
       "      <td>...</td>\n",
       "      <td>...</td>\n",
       "      <td>...</td>\n",
       "      <td>...</td>\n",
       "      <td>...</td>\n",
       "      <td>...</td>\n",
       "      <td>...</td>\n",
       "    </tr>\n",
       "    <tr>\n",
       "      <th>291</th>\n",
       "      <td>MERS-CoV</td>\n",
       "      <td>CLCC1</td>\n",
       "      <td>AP-MS</td>\n",
       "      <td>33060197</td>\n",
       "      <td>NaN</td>\n",
       "      <td>NaN</td>\n",
       "      <td>NaN</td>\n",
       "    </tr>\n",
       "    <tr>\n",
       "      <th>292</th>\n",
       "      <td>MERS-CoV</td>\n",
       "      <td>DPP4</td>\n",
       "      <td>Other</td>\n",
       "      <td>28643204</td>\n",
       "      <td>NaN</td>\n",
       "      <td>NaN</td>\n",
       "      <td>NaN</td>\n",
       "    </tr>\n",
       "    <tr>\n",
       "      <th>293</th>\n",
       "      <td>MERS-CoV</td>\n",
       "      <td>CD9</td>\n",
       "      <td>Other</td>\n",
       "      <td>28759649</td>\n",
       "      <td>-1.0</td>\n",
       "      <td>DEG</td>\n",
       "      <td>GSE122876</td>\n",
       "    </tr>\n",
       "    <tr>\n",
       "      <th>294</th>\n",
       "      <td>MERS-CoV</td>\n",
       "      <td>TMPRSS2</td>\n",
       "      <td>Other</td>\n",
       "      <td>28759649</td>\n",
       "      <td>NaN</td>\n",
       "      <td>NaN</td>\n",
       "      <td>NaN</td>\n",
       "    </tr>\n",
       "    <tr>\n",
       "      <th>295</th>\n",
       "      <td>MERS-CoV</td>\n",
       "      <td>SKP2</td>\n",
       "      <td>Other</td>\n",
       "      <td>31852899</td>\n",
       "      <td>NaN</td>\n",
       "      <td>NaN</td>\n",
       "      <td>NaN</td>\n",
       "    </tr>\n",
       "  </tbody>\n",
       "</table>\n",
       "<p>296 rows × 7 columns</p>\n",
       "</div>"
      ],
      "text/plain": [
       "        Virus Host Gene Host Gene Type Host Gene Source  Direction  \\\n",
       "0    MERS-CoV    SPTLC2          AP-MS         33060197       -1.0   \n",
       "1    MERS-CoV    B4GAT1          AP-MS         33060197        NaN   \n",
       "2    MERS-CoV   ATP6AP2          AP-MS         33060197       -1.0   \n",
       "3    MERS-CoV     IGHG4          AP-MS         33060197        NaN   \n",
       "4    MERS-CoV       WLS          AP-MS         33060197        NaN   \n",
       "..        ...       ...            ...              ...        ...   \n",
       "291  MERS-CoV     CLCC1          AP-MS         33060197        NaN   \n",
       "292  MERS-CoV      DPP4          Other         28643204        NaN   \n",
       "293  MERS-CoV       CD9          Other         28759649       -1.0   \n",
       "294  MERS-CoV   TMPRSS2          Other         28759649        NaN   \n",
       "295  MERS-CoV      SKP2          Other         31852899        NaN   \n",
       "\n",
       "    Direciton Type Direction Source  \n",
       "0              DEG        GSE122876  \n",
       "1              NaN              NaN  \n",
       "2              DEG        GSE122876  \n",
       "3              NaN              NaN  \n",
       "4              NaN              NaN  \n",
       "..             ...              ...  \n",
       "291            NaN              NaN  \n",
       "292            NaN              NaN  \n",
       "293            DEG        GSE122876  \n",
       "294            NaN              NaN  \n",
       "295            NaN              NaN  \n",
       "\n",
       "[296 rows x 7 columns]"
      ]
     },
     "execution_count": 10,
     "metadata": {},
     "output_type": "execute_result"
    }
   ],
   "source": [
    "merscov_GSE122876"
   ]
  },
  {
   "cell_type": "markdown",
   "metadata": {},
   "source": [
    "## SARS-Cov"
   ]
  },
  {
   "cell_type": "code",
   "execution_count": 11,
   "metadata": {},
   "outputs": [
    {
     "name": "stdout",
     "output_type": "stream",
     "text": [
      "1055\n"
     ]
    }
   ],
   "source": [
    "sarscov = ppi_all[ppi_all['Virus']=='SARS-CoV']\n",
    "print(len(sarscov))"
   ]
  },
  {
   "cell_type": "markdown",
   "metadata": {},
   "source": [
    "### GSE59185"
   ]
  },
  {
   "cell_type": "code",
   "execution_count": 12,
   "metadata": {},
   "outputs": [
    {
     "name": "stdout",
     "output_type": "stream",
     "text": [
      "2495\n"
     ]
    }
   ],
   "source": [
    "GSE59185 = pd.read_csv('/f/zhangwenwen/project/COVID-19/source_with_direction/PPI/DEGs/SARS-CoV_GSE59185.top.table.tsv',sep='\\t')\n",
    "GSE59185 = GSE59185[(GSE59185['adj.P.Val'] <= 0.05) & (\n",
    "    (GSE59185['logFC'] >= 1) | (GSE59185['logFC'] <= -1))]\n",
    "GSE59185['GENE_SYMBOL'] = GSE59185['GENE_SYMBOL'].str.upper()\n",
    "GSE59185 = GSE59185.drop_duplicates('GENE_SYMBOL')\n",
    "print(len(GSE59185))"
   ]
  },
  {
   "cell_type": "code",
   "execution_count": 13,
   "metadata": {},
   "outputs": [
    {
     "data": {
      "text/html": [
       "<div>\n",
       "<style scoped>\n",
       "    .dataframe tbody tr th:only-of-type {\n",
       "        vertical-align: middle;\n",
       "    }\n",
       "\n",
       "    .dataframe tbody tr th {\n",
       "        vertical-align: top;\n",
       "    }\n",
       "\n",
       "    .dataframe thead th {\n",
       "        text-align: right;\n",
       "    }\n",
       "</style>\n",
       "<table border=\"1\" class=\"dataframe\">\n",
       "  <thead>\n",
       "    <tr style=\"text-align: right;\">\n",
       "      <th></th>\n",
       "      <th>ID</th>\n",
       "      <th>adj.P.Val</th>\n",
       "      <th>P.Value</th>\n",
       "      <th>t</th>\n",
       "      <th>B</th>\n",
       "      <th>logFC</th>\n",
       "      <th>SPOT_ID</th>\n",
       "      <th>GB_ACC</th>\n",
       "      <th>GENE_SYMBOL</th>\n",
       "      <th>SEQUENCE</th>\n",
       "    </tr>\n",
       "  </thead>\n",
       "  <tbody>\n",
       "    <tr>\n",
       "      <th>0</th>\n",
       "      <td>37395</td>\n",
       "      <td>0.000001</td>\n",
       "      <td>1.680000e-11</td>\n",
       "      <td>-64.9</td>\n",
       "      <td>14.94059</td>\n",
       "      <td>-9.11</td>\n",
       "      <td>NaN</td>\n",
       "      <td>NM_021274</td>\n",
       "      <td>CXCL10</td>\n",
       "      <td>GCTTTGCATTGTATATGGAAGAACTTGTGTCATCAAGTATGTATCA...</td>\n",
       "    </tr>\n",
       "    <tr>\n",
       "      <th>1</th>\n",
       "      <td>32046</td>\n",
       "      <td>0.000002</td>\n",
       "      <td>9.000000e-11</td>\n",
       "      <td>-51.7</td>\n",
       "      <td>14.15371</td>\n",
       "      <td>-6.00</td>\n",
       "      <td>NaN</td>\n",
       "      <td>NM_134102</td>\n",
       "      <td>PLA1A</td>\n",
       "      <td>TCTAACGCTTTACATAAATGCCCTTTTAGCTTCTCTATTTCGACAC...</td>\n",
       "    </tr>\n",
       "  </tbody>\n",
       "</table>\n",
       "</div>"
      ],
      "text/plain": [
       "      ID  adj.P.Val       P.Value     t         B  logFC SPOT_ID     GB_ACC  \\\n",
       "0  37395   0.000001  1.680000e-11 -64.9  14.94059  -9.11     NaN  NM_021274   \n",
       "1  32046   0.000002  9.000000e-11 -51.7  14.15371  -6.00     NaN  NM_134102   \n",
       "\n",
       "  GENE_SYMBOL                                           SEQUENCE  \n",
       "0      CXCL10  GCTTTGCATTGTATATGGAAGAACTTGTGTCATCAAGTATGTATCA...  \n",
       "1       PLA1A  TCTAACGCTTTACATAAATGCCCTTTTAGCTTCTCTATTTCGACAC...  "
      ]
     },
     "execution_count": 13,
     "metadata": {},
     "output_type": "execute_result"
    }
   ],
   "source": [
    "GSE59185[:2]"
   ]
  },
  {
   "cell_type": "code",
   "execution_count": 14,
   "metadata": {},
   "outputs": [
    {
     "name": "stdout",
     "output_type": "stream",
     "text": [
      "99\n"
     ]
    }
   ],
   "source": [
    "sarscov_GSE59185 = sarscov.merge(GSE59185,\n",
    "                                 left_on='Host Gene',\n",
    "                                 right_on='GENE_SYMBOL',\n",
    "                                 how='left')\n",
    "print(len(sarscov_GSE59185[sarscov_GSE59185['GENE_SYMBOL'].notnull()]))\n",
    "sarscov_GSE59185['Direction'] = sarscov_GSE59185['logFC'] / sarscov_GSE59185[\n",
    "    'logFC'].abs() * -1\n",
    "sarscov_GSE59185.loc[sarscov_GSE59185['Direction'].notnull(),\n",
    "                     'Direciton Type'] = 'DEG'\n",
    "sarscov_GSE59185.loc[sarscov_GSE59185['Direction'].notnull(),\n",
    "                     'Direction Source'] = 'GSE59185'\n",
    "sarscov_GSE59185 = sarscov_GSE59185[[\n",
    "    'Virus', 'Host Gene', 'Host Gene Type', 'Host Gene Source', 'Direction',\n",
    "    'Direciton Type', 'Direction Source'\n",
    "]]"
   ]
  },
  {
   "cell_type": "code",
   "execution_count": 15,
   "metadata": {},
   "outputs": [
    {
     "data": {
      "text/html": [
       "<div>\n",
       "<style scoped>\n",
       "    .dataframe tbody tr th:only-of-type {\n",
       "        vertical-align: middle;\n",
       "    }\n",
       "\n",
       "    .dataframe tbody tr th {\n",
       "        vertical-align: top;\n",
       "    }\n",
       "\n",
       "    .dataframe thead th {\n",
       "        text-align: right;\n",
       "    }\n",
       "</style>\n",
       "<table border=\"1\" class=\"dataframe\">\n",
       "  <thead>\n",
       "    <tr style=\"text-align: right;\">\n",
       "      <th></th>\n",
       "      <th>Virus</th>\n",
       "      <th>Host Gene</th>\n",
       "      <th>Host Gene Type</th>\n",
       "      <th>Host Gene Source</th>\n",
       "      <th>Direction</th>\n",
       "      <th>Direciton Type</th>\n",
       "      <th>Direction Source</th>\n",
       "    </tr>\n",
       "  </thead>\n",
       "  <tbody>\n",
       "    <tr>\n",
       "      <th>0</th>\n",
       "      <td>SARS-CoV</td>\n",
       "      <td>UFD1</td>\n",
       "      <td>AP-MS</td>\n",
       "      <td>2020.06.17.156455</td>\n",
       "      <td>NaN</td>\n",
       "      <td>NaN</td>\n",
       "      <td>NaN</td>\n",
       "    </tr>\n",
       "    <tr>\n",
       "      <th>1</th>\n",
       "      <td>SARS-CoV</td>\n",
       "      <td>NPLOC4</td>\n",
       "      <td>AP-MS</td>\n",
       "      <td>2020.06.17.156455</td>\n",
       "      <td>NaN</td>\n",
       "      <td>NaN</td>\n",
       "      <td>NaN</td>\n",
       "    </tr>\n",
       "    <tr>\n",
       "      <th>2</th>\n",
       "      <td>SARS-CoV</td>\n",
       "      <td>SARS_CoV_E</td>\n",
       "      <td>AP-MS</td>\n",
       "      <td>2020.06.17.156455</td>\n",
       "      <td>NaN</td>\n",
       "      <td>NaN</td>\n",
       "      <td>NaN</td>\n",
       "    </tr>\n",
       "    <tr>\n",
       "      <th>3</th>\n",
       "      <td>SARS-CoV</td>\n",
       "      <td>RAB34</td>\n",
       "      <td>AP-MS</td>\n",
       "      <td>2020.06.17.156455</td>\n",
       "      <td>NaN</td>\n",
       "      <td>NaN</td>\n",
       "      <td>NaN</td>\n",
       "    </tr>\n",
       "    <tr>\n",
       "      <th>4</th>\n",
       "      <td>SARS-CoV</td>\n",
       "      <td>FAM241B</td>\n",
       "      <td>AP-MS</td>\n",
       "      <td>2020.06.17.156455</td>\n",
       "      <td>NaN</td>\n",
       "      <td>NaN</td>\n",
       "      <td>NaN</td>\n",
       "    </tr>\n",
       "    <tr>\n",
       "      <th>...</th>\n",
       "      <td>...</td>\n",
       "      <td>...</td>\n",
       "      <td>...</td>\n",
       "      <td>...</td>\n",
       "      <td>...</td>\n",
       "      <td>...</td>\n",
       "      <td>...</td>\n",
       "    </tr>\n",
       "    <tr>\n",
       "      <th>1050</th>\n",
       "      <td>SARS-CoV</td>\n",
       "      <td>AGO1</td>\n",
       "      <td>STRING.Viruses</td>\n",
       "      <td>STRING Viruses</td>\n",
       "      <td>NaN</td>\n",
       "      <td>NaN</td>\n",
       "      <td>NaN</td>\n",
       "    </tr>\n",
       "    <tr>\n",
       "      <th>1051</th>\n",
       "      <td>SARS-CoV</td>\n",
       "      <td>CD79A</td>\n",
       "      <td>STRING.Viruses</td>\n",
       "      <td>STRING Viruses</td>\n",
       "      <td>-1.0</td>\n",
       "      <td>DEG</td>\n",
       "      <td>GSE59185</td>\n",
       "    </tr>\n",
       "    <tr>\n",
       "      <th>1052</th>\n",
       "      <td>SARS-CoV</td>\n",
       "      <td>MYO5C</td>\n",
       "      <td>STRING.Viruses</td>\n",
       "      <td>STRING Viruses</td>\n",
       "      <td>-1.0</td>\n",
       "      <td>DEG</td>\n",
       "      <td>GSE59185</td>\n",
       "    </tr>\n",
       "    <tr>\n",
       "      <th>1053</th>\n",
       "      <td>SARS-CoV</td>\n",
       "      <td>TBXT</td>\n",
       "      <td>STRING.Viruses</td>\n",
       "      <td>STRING Viruses</td>\n",
       "      <td>NaN</td>\n",
       "      <td>NaN</td>\n",
       "      <td>NaN</td>\n",
       "    </tr>\n",
       "    <tr>\n",
       "      <th>1054</th>\n",
       "      <td>SARS-CoV</td>\n",
       "      <td>CDSN</td>\n",
       "      <td>STRING.Viruses</td>\n",
       "      <td>STRING Viruses</td>\n",
       "      <td>NaN</td>\n",
       "      <td>NaN</td>\n",
       "      <td>NaN</td>\n",
       "    </tr>\n",
       "  </tbody>\n",
       "</table>\n",
       "<p>1055 rows × 7 columns</p>\n",
       "</div>"
      ],
      "text/plain": [
       "         Virus   Host Gene  Host Gene Type   Host Gene Source  Direction  \\\n",
       "0     SARS-CoV        UFD1           AP-MS  2020.06.17.156455        NaN   \n",
       "1     SARS-CoV      NPLOC4           AP-MS  2020.06.17.156455        NaN   \n",
       "2     SARS-CoV  SARS_CoV_E           AP-MS  2020.06.17.156455        NaN   \n",
       "3     SARS-CoV       RAB34           AP-MS  2020.06.17.156455        NaN   \n",
       "4     SARS-CoV     FAM241B           AP-MS  2020.06.17.156455        NaN   \n",
       "...        ...         ...             ...                ...        ...   \n",
       "1050  SARS-CoV        AGO1  STRING.Viruses     STRING Viruses        NaN   \n",
       "1051  SARS-CoV       CD79A  STRING.Viruses     STRING Viruses       -1.0   \n",
       "1052  SARS-CoV       MYO5C  STRING.Viruses     STRING Viruses       -1.0   \n",
       "1053  SARS-CoV        TBXT  STRING.Viruses     STRING Viruses        NaN   \n",
       "1054  SARS-CoV        CDSN  STRING.Viruses     STRING Viruses        NaN   \n",
       "\n",
       "     Direciton Type Direction Source  \n",
       "0               NaN              NaN  \n",
       "1               NaN              NaN  \n",
       "2               NaN              NaN  \n",
       "3               NaN              NaN  \n",
       "4               NaN              NaN  \n",
       "...             ...              ...  \n",
       "1050            NaN              NaN  \n",
       "1051            DEG         GSE59185  \n",
       "1052            DEG         GSE59185  \n",
       "1053            NaN              NaN  \n",
       "1054            NaN              NaN  \n",
       "\n",
       "[1055 rows x 7 columns]"
      ]
     },
     "execution_count": 15,
     "metadata": {},
     "output_type": "execute_result"
    }
   ],
   "source": [
    "sarscov_GSE59185"
   ]
  },
  {
   "cell_type": "markdown",
   "metadata": {},
   "source": [
    "### GSE33267"
   ]
  },
  {
   "cell_type": "code",
   "execution_count": 16,
   "metadata": {},
   "outputs": [
    {
     "name": "stdout",
     "output_type": "stream",
     "text": [
      "5553\n"
     ]
    }
   ],
   "source": [
    "GSE33267 = pd.read_csv('/f/zhangwenwen/project/COVID-19/source_with_direction/PPI/DEGs/SARS-CoV_GSE33267_MOCK72H_DORF672H.top.table.tsv',sep='\\t')\n",
    "GSE33267 = GSE33267[(GSE33267['adj.P.Val'] <= 0.05) & (\n",
    "    (GSE33267['logFC'] >= 1) | (GSE33267['logFC'] <= -1))]\n",
    "GSE33267 = GSE33267.drop_duplicates('Gene.symbol')\n",
    "print(len(GSE33267))"
   ]
  },
  {
   "cell_type": "code",
   "execution_count": 17,
   "metadata": {},
   "outputs": [
    {
     "name": "stdout",
     "output_type": "stream",
     "text": [
      "285\n"
     ]
    }
   ],
   "source": [
    "sarscov_GSE33267 = sarscov.merge(GSE33267,\n",
    "                                 left_on='Host Gene',\n",
    "                                 right_on='Gene.symbol',\n",
    "                                 how='left')\n",
    "print(len(sarscov_GSE33267[sarscov_GSE33267['Gene.symbol'].notnull()]))\n",
    "sarscov_GSE33267['Direction'] = sarscov_GSE33267[\n",
    "    'logFC'] / sarscov_GSE33267['logFC'].abs()\n",
    "sarscov_GSE33267.loc[sarscov_GSE33267['Direction'].notnull(),\n",
    "                      'Direciton Type'] = 'DEG'\n",
    "sarscov_GSE33267.loc[sarscov_GSE33267['Direction'].notnull(),\n",
    "                      'Direction Source'] = 'GSE33267'\n",
    "sarscov_GSE33267 = sarscov_GSE33267[[\n",
    "    'Virus', 'Host Gene', 'Host Gene Type', 'Host Gene Source', 'Direction',\n",
    "    'Direciton Type', 'Direction Source'\n",
    "]]"
   ]
  },
  {
   "cell_type": "code",
   "execution_count": 18,
   "metadata": {},
   "outputs": [
    {
     "data": {
      "text/html": [
       "<div>\n",
       "<style scoped>\n",
       "    .dataframe tbody tr th:only-of-type {\n",
       "        vertical-align: middle;\n",
       "    }\n",
       "\n",
       "    .dataframe tbody tr th {\n",
       "        vertical-align: top;\n",
       "    }\n",
       "\n",
       "    .dataframe thead th {\n",
       "        text-align: right;\n",
       "    }\n",
       "</style>\n",
       "<table border=\"1\" class=\"dataframe\">\n",
       "  <thead>\n",
       "    <tr style=\"text-align: right;\">\n",
       "      <th></th>\n",
       "      <th>Virus</th>\n",
       "      <th>Host Gene</th>\n",
       "      <th>Host Gene Type</th>\n",
       "      <th>Host Gene Source</th>\n",
       "      <th>Direction</th>\n",
       "      <th>Direciton Type</th>\n",
       "      <th>Direction Source</th>\n",
       "    </tr>\n",
       "  </thead>\n",
       "  <tbody>\n",
       "    <tr>\n",
       "      <th>0</th>\n",
       "      <td>SARS-CoV</td>\n",
       "      <td>UFD1</td>\n",
       "      <td>AP-MS</td>\n",
       "      <td>2020.06.17.156455</td>\n",
       "      <td>NaN</td>\n",
       "      <td>NaN</td>\n",
       "      <td>NaN</td>\n",
       "    </tr>\n",
       "    <tr>\n",
       "      <th>1</th>\n",
       "      <td>SARS-CoV</td>\n",
       "      <td>NPLOC4</td>\n",
       "      <td>AP-MS</td>\n",
       "      <td>2020.06.17.156455</td>\n",
       "      <td>NaN</td>\n",
       "      <td>NaN</td>\n",
       "      <td>NaN</td>\n",
       "    </tr>\n",
       "    <tr>\n",
       "      <th>2</th>\n",
       "      <td>SARS-CoV</td>\n",
       "      <td>SARS_CoV_E</td>\n",
       "      <td>AP-MS</td>\n",
       "      <td>2020.06.17.156455</td>\n",
       "      <td>NaN</td>\n",
       "      <td>NaN</td>\n",
       "      <td>NaN</td>\n",
       "    </tr>\n",
       "    <tr>\n",
       "      <th>3</th>\n",
       "      <td>SARS-CoV</td>\n",
       "      <td>RAB34</td>\n",
       "      <td>AP-MS</td>\n",
       "      <td>2020.06.17.156455</td>\n",
       "      <td>NaN</td>\n",
       "      <td>NaN</td>\n",
       "      <td>NaN</td>\n",
       "    </tr>\n",
       "    <tr>\n",
       "      <th>4</th>\n",
       "      <td>SARS-CoV</td>\n",
       "      <td>FAM241B</td>\n",
       "      <td>AP-MS</td>\n",
       "      <td>2020.06.17.156455</td>\n",
       "      <td>NaN</td>\n",
       "      <td>NaN</td>\n",
       "      <td>NaN</td>\n",
       "    </tr>\n",
       "    <tr>\n",
       "      <th>...</th>\n",
       "      <td>...</td>\n",
       "      <td>...</td>\n",
       "      <td>...</td>\n",
       "      <td>...</td>\n",
       "      <td>...</td>\n",
       "      <td>...</td>\n",
       "      <td>...</td>\n",
       "    </tr>\n",
       "    <tr>\n",
       "      <th>1050</th>\n",
       "      <td>SARS-CoV</td>\n",
       "      <td>AGO1</td>\n",
       "      <td>STRING.Viruses</td>\n",
       "      <td>STRING Viruses</td>\n",
       "      <td>NaN</td>\n",
       "      <td>NaN</td>\n",
       "      <td>NaN</td>\n",
       "    </tr>\n",
       "    <tr>\n",
       "      <th>1051</th>\n",
       "      <td>SARS-CoV</td>\n",
       "      <td>CD79A</td>\n",
       "      <td>STRING.Viruses</td>\n",
       "      <td>STRING Viruses</td>\n",
       "      <td>NaN</td>\n",
       "      <td>NaN</td>\n",
       "      <td>NaN</td>\n",
       "    </tr>\n",
       "    <tr>\n",
       "      <th>1052</th>\n",
       "      <td>SARS-CoV</td>\n",
       "      <td>MYO5C</td>\n",
       "      <td>STRING.Viruses</td>\n",
       "      <td>STRING Viruses</td>\n",
       "      <td>NaN</td>\n",
       "      <td>NaN</td>\n",
       "      <td>NaN</td>\n",
       "    </tr>\n",
       "    <tr>\n",
       "      <th>1053</th>\n",
       "      <td>SARS-CoV</td>\n",
       "      <td>TBXT</td>\n",
       "      <td>STRING.Viruses</td>\n",
       "      <td>STRING Viruses</td>\n",
       "      <td>NaN</td>\n",
       "      <td>NaN</td>\n",
       "      <td>NaN</td>\n",
       "    </tr>\n",
       "    <tr>\n",
       "      <th>1054</th>\n",
       "      <td>SARS-CoV</td>\n",
       "      <td>CDSN</td>\n",
       "      <td>STRING.Viruses</td>\n",
       "      <td>STRING Viruses</td>\n",
       "      <td>NaN</td>\n",
       "      <td>NaN</td>\n",
       "      <td>NaN</td>\n",
       "    </tr>\n",
       "  </tbody>\n",
       "</table>\n",
       "<p>1055 rows × 7 columns</p>\n",
       "</div>"
      ],
      "text/plain": [
       "         Virus   Host Gene  Host Gene Type   Host Gene Source  Direction  \\\n",
       "0     SARS-CoV        UFD1           AP-MS  2020.06.17.156455        NaN   \n",
       "1     SARS-CoV      NPLOC4           AP-MS  2020.06.17.156455        NaN   \n",
       "2     SARS-CoV  SARS_CoV_E           AP-MS  2020.06.17.156455        NaN   \n",
       "3     SARS-CoV       RAB34           AP-MS  2020.06.17.156455        NaN   \n",
       "4     SARS-CoV     FAM241B           AP-MS  2020.06.17.156455        NaN   \n",
       "...        ...         ...             ...                ...        ...   \n",
       "1050  SARS-CoV        AGO1  STRING.Viruses     STRING Viruses        NaN   \n",
       "1051  SARS-CoV       CD79A  STRING.Viruses     STRING Viruses        NaN   \n",
       "1052  SARS-CoV       MYO5C  STRING.Viruses     STRING Viruses        NaN   \n",
       "1053  SARS-CoV        TBXT  STRING.Viruses     STRING Viruses        NaN   \n",
       "1054  SARS-CoV        CDSN  STRING.Viruses     STRING Viruses        NaN   \n",
       "\n",
       "     Direciton Type Direction Source  \n",
       "0               NaN              NaN  \n",
       "1               NaN              NaN  \n",
       "2               NaN              NaN  \n",
       "3               NaN              NaN  \n",
       "4               NaN              NaN  \n",
       "...             ...              ...  \n",
       "1050            NaN              NaN  \n",
       "1051            NaN              NaN  \n",
       "1052            NaN              NaN  \n",
       "1053            NaN              NaN  \n",
       "1054            NaN              NaN  \n",
       "\n",
       "[1055 rows x 7 columns]"
      ]
     },
     "execution_count": 18,
     "metadata": {},
     "output_type": "execute_result"
    }
   ],
   "source": [
    "sarscov_GSE33267"
   ]
  },
  {
   "cell_type": "markdown",
   "metadata": {},
   "source": [
    "## SARS-Cov2"
   ]
  },
  {
   "cell_type": "code",
   "execution_count": 19,
   "metadata": {},
   "outputs": [
    {
     "name": "stdout",
     "output_type": "stream",
     "text": [
      "1427\n"
     ]
    }
   ],
   "source": [
    "sarscov2 = ppi_all[ppi_all['Virus']=='SARS-CoV2']\n",
    "print(len(sarscov2))"
   ]
  },
  {
   "cell_type": "markdown",
   "metadata": {},
   "source": [
    "### GSE152586"
   ]
  },
  {
   "cell_type": "code",
   "execution_count": 20,
   "metadata": {},
   "outputs": [
    {
     "name": "stdout",
     "output_type": "stream",
     "text": [
      "1389\n"
     ]
    }
   ],
   "source": [
    "GSE152586 = pd.read_csv('/f/zhangwenwen/project/COVID-19/source_with_direction/PPI/DEGs/SARS-CoV2_GSE152586_iDEP.csv')\n",
    "GSE152586 = GSE152586[(GSE152586['adj-P-Val'] <= 0.05) & (\n",
    "    (GSE152586['logFC'] >= 1) | (GSE152586['logFC'] <= -1))]\n",
    "GSE152586 = GSE152586.drop_duplicates('Symbol')\n",
    "print(len(GSE152586))"
   ]
  },
  {
   "cell_type": "code",
   "execution_count": 21,
   "metadata": {},
   "outputs": [
    {
     "name": "stdout",
     "output_type": "stream",
     "text": [
      "114\n"
     ]
    }
   ],
   "source": [
    "sarscov2_GSE152586 = sarscov2.merge(GSE152586,\n",
    "                                 left_on='Host Gene',\n",
    "                                 right_on='Symbol',\n",
    "                                 how='left')\n",
    "print(len(sarscov2_GSE152586[sarscov2_GSE152586['Symbol'].notnull()]))\n",
    "sarscov2_GSE152586['Direction'] = sarscov2_GSE152586[\n",
    "    'logFC'] / sarscov2_GSE152586['logFC'].abs()\n",
    "sarscov2_GSE152586.loc[sarscov2_GSE152586['Direction'].notnull(),\n",
    "                      'Direciton Type'] = 'DEG'\n",
    "sarscov2_GSE152586.loc[sarscov2_GSE152586['Direction'].notnull(),\n",
    "                      'Direction Source'] = 'GSE152586'\n",
    "sarscov2_GSE152586 = sarscov2_GSE152586[[\n",
    "    'Virus', 'Host Gene', 'Host Gene Type', 'Host Gene Source', 'Direction',\n",
    "    'Direciton Type', 'Direction Source'\n",
    "]]"
   ]
  },
  {
   "cell_type": "code",
   "execution_count": 22,
   "metadata": {},
   "outputs": [
    {
     "data": {
      "text/html": [
       "<div>\n",
       "<style scoped>\n",
       "    .dataframe tbody tr th:only-of-type {\n",
       "        vertical-align: middle;\n",
       "    }\n",
       "\n",
       "    .dataframe tbody tr th {\n",
       "        vertical-align: top;\n",
       "    }\n",
       "\n",
       "    .dataframe thead th {\n",
       "        text-align: right;\n",
       "    }\n",
       "</style>\n",
       "<table border=\"1\" class=\"dataframe\">\n",
       "  <thead>\n",
       "    <tr style=\"text-align: right;\">\n",
       "      <th></th>\n",
       "      <th>Virus</th>\n",
       "      <th>Host Gene</th>\n",
       "      <th>Host Gene Type</th>\n",
       "      <th>Host Gene Source</th>\n",
       "      <th>Direction</th>\n",
       "      <th>Direciton Type</th>\n",
       "      <th>Direction Source</th>\n",
       "    </tr>\n",
       "  </thead>\n",
       "  <tbody>\n",
       "    <tr>\n",
       "      <th>0</th>\n",
       "      <td>SARS-CoV2</td>\n",
       "      <td>NUP155</td>\n",
       "      <td>AP-MS</td>\n",
       "      <td>j.medj.2020.07.002</td>\n",
       "      <td>NaN</td>\n",
       "      <td>NaN</td>\n",
       "      <td>NaN</td>\n",
       "    </tr>\n",
       "    <tr>\n",
       "      <th>1</th>\n",
       "      <td>SARS-CoV2</td>\n",
       "      <td>STUB1</td>\n",
       "      <td>AP-MS</td>\n",
       "      <td>2020.06.17.156455,j.medj.2020.07.002</td>\n",
       "      <td>-1.0</td>\n",
       "      <td>DEG</td>\n",
       "      <td>GSE152586</td>\n",
       "    </tr>\n",
       "    <tr>\n",
       "      <th>2</th>\n",
       "      <td>SARS-CoV2</td>\n",
       "      <td>XPO4</td>\n",
       "      <td>AP-MS</td>\n",
       "      <td>j.medj.2020.07.002</td>\n",
       "      <td>NaN</td>\n",
       "      <td>NaN</td>\n",
       "      <td>NaN</td>\n",
       "    </tr>\n",
       "    <tr>\n",
       "      <th>3</th>\n",
       "      <td>SARS-CoV2</td>\n",
       "      <td>IPO11</td>\n",
       "      <td>AP-MS</td>\n",
       "      <td>2020.06.17.156455,j.medj.2020.07.002</td>\n",
       "      <td>NaN</td>\n",
       "      <td>NaN</td>\n",
       "      <td>NaN</td>\n",
       "    </tr>\n",
       "    <tr>\n",
       "      <th>4</th>\n",
       "      <td>SARS-CoV2</td>\n",
       "      <td>EXOC7</td>\n",
       "      <td>AP-MS</td>\n",
       "      <td>j.medj.2020.07.002</td>\n",
       "      <td>NaN</td>\n",
       "      <td>NaN</td>\n",
       "      <td>NaN</td>\n",
       "    </tr>\n",
       "    <tr>\n",
       "      <th>...</th>\n",
       "      <td>...</td>\n",
       "      <td>...</td>\n",
       "      <td>...</td>\n",
       "      <td>...</td>\n",
       "      <td>...</td>\n",
       "      <td>...</td>\n",
       "      <td>...</td>\n",
       "    </tr>\n",
       "    <tr>\n",
       "      <th>1422</th>\n",
       "      <td>SARS-CoV2</td>\n",
       "      <td>SSX2IP</td>\n",
       "      <td>AP-MS</td>\n",
       "      <td>33060197</td>\n",
       "      <td>NaN</td>\n",
       "      <td>NaN</td>\n",
       "      <td>NaN</td>\n",
       "    </tr>\n",
       "    <tr>\n",
       "      <th>1423</th>\n",
       "      <td>SARS-CoV2</td>\n",
       "      <td>SIK3</td>\n",
       "      <td>AP-MS</td>\n",
       "      <td>33060197</td>\n",
       "      <td>1.0</td>\n",
       "      <td>DEG</td>\n",
       "      <td>GSE152586</td>\n",
       "    </tr>\n",
       "    <tr>\n",
       "      <th>1424</th>\n",
       "      <td>SARS-CoV2</td>\n",
       "      <td>COMMD10</td>\n",
       "      <td>AP-MS</td>\n",
       "      <td>33060197</td>\n",
       "      <td>NaN</td>\n",
       "      <td>NaN</td>\n",
       "      <td>NaN</td>\n",
       "    </tr>\n",
       "    <tr>\n",
       "      <th>1425</th>\n",
       "      <td>SARS-CoV2</td>\n",
       "      <td>RNPC3</td>\n",
       "      <td>AP-MS</td>\n",
       "      <td>33060197</td>\n",
       "      <td>NaN</td>\n",
       "      <td>NaN</td>\n",
       "      <td>NaN</td>\n",
       "    </tr>\n",
       "    <tr>\n",
       "      <th>1426</th>\n",
       "      <td>SARS-CoV2</td>\n",
       "      <td>MARC1</td>\n",
       "      <td>AP-MS</td>\n",
       "      <td>33060197</td>\n",
       "      <td>NaN</td>\n",
       "      <td>NaN</td>\n",
       "      <td>NaN</td>\n",
       "    </tr>\n",
       "  </tbody>\n",
       "</table>\n",
       "<p>1427 rows × 7 columns</p>\n",
       "</div>"
      ],
      "text/plain": [
       "          Virus Host Gene Host Gene Type  \\\n",
       "0     SARS-CoV2    NUP155          AP-MS   \n",
       "1     SARS-CoV2     STUB1          AP-MS   \n",
       "2     SARS-CoV2      XPO4          AP-MS   \n",
       "3     SARS-CoV2     IPO11          AP-MS   \n",
       "4     SARS-CoV2     EXOC7          AP-MS   \n",
       "...         ...       ...            ...   \n",
       "1422  SARS-CoV2    SSX2IP          AP-MS   \n",
       "1423  SARS-CoV2      SIK3          AP-MS   \n",
       "1424  SARS-CoV2   COMMD10          AP-MS   \n",
       "1425  SARS-CoV2     RNPC3          AP-MS   \n",
       "1426  SARS-CoV2     MARC1          AP-MS   \n",
       "\n",
       "                          Host Gene Source  Direction Direciton Type  \\\n",
       "0                       j.medj.2020.07.002        NaN            NaN   \n",
       "1     2020.06.17.156455,j.medj.2020.07.002       -1.0            DEG   \n",
       "2                       j.medj.2020.07.002        NaN            NaN   \n",
       "3     2020.06.17.156455,j.medj.2020.07.002        NaN            NaN   \n",
       "4                       j.medj.2020.07.002        NaN            NaN   \n",
       "...                                    ...        ...            ...   \n",
       "1422                              33060197        NaN            NaN   \n",
       "1423                              33060197        1.0            DEG   \n",
       "1424                              33060197        NaN            NaN   \n",
       "1425                              33060197        NaN            NaN   \n",
       "1426                              33060197        NaN            NaN   \n",
       "\n",
       "     Direction Source  \n",
       "0                 NaN  \n",
       "1           GSE152586  \n",
       "2                 NaN  \n",
       "3                 NaN  \n",
       "4                 NaN  \n",
       "...               ...  \n",
       "1422              NaN  \n",
       "1423        GSE152586  \n",
       "1424              NaN  \n",
       "1425              NaN  \n",
       "1426              NaN  \n",
       "\n",
       "[1427 rows x 7 columns]"
      ]
     },
     "execution_count": 22,
     "metadata": {},
     "output_type": "execute_result"
    }
   ],
   "source": [
    "sarscov2_GSE152586"
   ]
  },
  {
   "cell_type": "markdown",
   "metadata": {},
   "source": [
    "### GSE171430"
   ]
  },
  {
   "cell_type": "code",
   "execution_count": 23,
   "metadata": {},
   "outputs": [
    {
     "name": "stdout",
     "output_type": "stream",
     "text": [
      "48\n"
     ]
    },
    {
     "name": "stderr",
     "output_type": "stream",
     "text": [
      "<ipython-input-23-49226b5e7e29>:2: UserWarning: Boolean Series key will be reindexed to match DataFrame index.\n",
      "  GSE171430 = GSE171430[(GSE152586['adj-P-Val'] <= 0.05) & (\n"
     ]
    }
   ],
   "source": [
    "GSE171430 = pd.read_csv('/f/zhangwenwen/project/COVID-19/source_with_direction/PPI/DEGs/SARS-CoV2_GSE171430_iDEP.csv')\n",
    "GSE171430 = GSE171430[(GSE152586['adj-P-Val'] <= 0.05) & (\n",
    "    (GSE171430['logFC'] >= 1) | (GSE171430['logFC'] <= -1))]\n",
    "GSE171430 = GSE171430.drop_duplicates('Symbol')\n",
    "print(len(GSE171430))"
   ]
  },
  {
   "cell_type": "code",
   "execution_count": 24,
   "metadata": {},
   "outputs": [
    {
     "name": "stdout",
     "output_type": "stream",
     "text": [
      "0\n"
     ]
    }
   ],
   "source": [
    "sarscov2_GSE171430 = sarscov2.merge(GSE171430,\n",
    "                                 left_on='Host Gene',\n",
    "                                 right_on='Symbol',\n",
    "                                 how='left')\n",
    "print(len(sarscov2_GSE171430[sarscov2_GSE171430['Symbol'].notnull()]))\n",
    "sarscov2_GSE171430['Direction'] = sarscov2_GSE171430[\n",
    "    'logFC'] / sarscov2_GSE171430['logFC'].abs()\n",
    "sarscov2_GSE171430.loc[sarscov2_GSE171430['Direction'].notnull(),\n",
    "                      'Direciton Type'] = 'DEG'\n",
    "sarscov2_GSE171430.loc[sarscov2_GSE171430['Direction'].notnull(),\n",
    "                      'Direction Source'] = 'GSE171430'\n",
    "sarscov2_GSE171430 = sarscov2_GSE171430[[\n",
    "    'Virus', 'Host Gene', 'Host Gene Type', 'Host Gene Source', 'Direction',\n",
    "    'Direciton Type', 'Direction Source'\n",
    "]]"
   ]
  },
  {
   "cell_type": "code",
   "execution_count": 25,
   "metadata": {},
   "outputs": [
    {
     "data": {
      "text/html": [
       "<div>\n",
       "<style scoped>\n",
       "    .dataframe tbody tr th:only-of-type {\n",
       "        vertical-align: middle;\n",
       "    }\n",
       "\n",
       "    .dataframe tbody tr th {\n",
       "        vertical-align: top;\n",
       "    }\n",
       "\n",
       "    .dataframe thead th {\n",
       "        text-align: right;\n",
       "    }\n",
       "</style>\n",
       "<table border=\"1\" class=\"dataframe\">\n",
       "  <thead>\n",
       "    <tr style=\"text-align: right;\">\n",
       "      <th></th>\n",
       "      <th>Virus</th>\n",
       "      <th>Host Gene</th>\n",
       "      <th>Host Gene Type</th>\n",
       "      <th>Host Gene Source</th>\n",
       "      <th>Direction</th>\n",
       "      <th>Direciton Type</th>\n",
       "      <th>Direction Source</th>\n",
       "    </tr>\n",
       "  </thead>\n",
       "  <tbody>\n",
       "    <tr>\n",
       "      <th>0</th>\n",
       "      <td>SARS-CoV2</td>\n",
       "      <td>NUP155</td>\n",
       "      <td>AP-MS</td>\n",
       "      <td>j.medj.2020.07.002</td>\n",
       "      <td>NaN</td>\n",
       "      <td>NaN</td>\n",
       "      <td>NaN</td>\n",
       "    </tr>\n",
       "    <tr>\n",
       "      <th>1</th>\n",
       "      <td>SARS-CoV2</td>\n",
       "      <td>STUB1</td>\n",
       "      <td>AP-MS</td>\n",
       "      <td>2020.06.17.156455,j.medj.2020.07.002</td>\n",
       "      <td>NaN</td>\n",
       "      <td>NaN</td>\n",
       "      <td>NaN</td>\n",
       "    </tr>\n",
       "    <tr>\n",
       "      <th>2</th>\n",
       "      <td>SARS-CoV2</td>\n",
       "      <td>XPO4</td>\n",
       "      <td>AP-MS</td>\n",
       "      <td>j.medj.2020.07.002</td>\n",
       "      <td>NaN</td>\n",
       "      <td>NaN</td>\n",
       "      <td>NaN</td>\n",
       "    </tr>\n",
       "    <tr>\n",
       "      <th>3</th>\n",
       "      <td>SARS-CoV2</td>\n",
       "      <td>IPO11</td>\n",
       "      <td>AP-MS</td>\n",
       "      <td>2020.06.17.156455,j.medj.2020.07.002</td>\n",
       "      <td>NaN</td>\n",
       "      <td>NaN</td>\n",
       "      <td>NaN</td>\n",
       "    </tr>\n",
       "    <tr>\n",
       "      <th>4</th>\n",
       "      <td>SARS-CoV2</td>\n",
       "      <td>EXOC7</td>\n",
       "      <td>AP-MS</td>\n",
       "      <td>j.medj.2020.07.002</td>\n",
       "      <td>NaN</td>\n",
       "      <td>NaN</td>\n",
       "      <td>NaN</td>\n",
       "    </tr>\n",
       "    <tr>\n",
       "      <th>...</th>\n",
       "      <td>...</td>\n",
       "      <td>...</td>\n",
       "      <td>...</td>\n",
       "      <td>...</td>\n",
       "      <td>...</td>\n",
       "      <td>...</td>\n",
       "      <td>...</td>\n",
       "    </tr>\n",
       "    <tr>\n",
       "      <th>1422</th>\n",
       "      <td>SARS-CoV2</td>\n",
       "      <td>SSX2IP</td>\n",
       "      <td>AP-MS</td>\n",
       "      <td>33060197</td>\n",
       "      <td>NaN</td>\n",
       "      <td>NaN</td>\n",
       "      <td>NaN</td>\n",
       "    </tr>\n",
       "    <tr>\n",
       "      <th>1423</th>\n",
       "      <td>SARS-CoV2</td>\n",
       "      <td>SIK3</td>\n",
       "      <td>AP-MS</td>\n",
       "      <td>33060197</td>\n",
       "      <td>NaN</td>\n",
       "      <td>NaN</td>\n",
       "      <td>NaN</td>\n",
       "    </tr>\n",
       "    <tr>\n",
       "      <th>1424</th>\n",
       "      <td>SARS-CoV2</td>\n",
       "      <td>COMMD10</td>\n",
       "      <td>AP-MS</td>\n",
       "      <td>33060197</td>\n",
       "      <td>NaN</td>\n",
       "      <td>NaN</td>\n",
       "      <td>NaN</td>\n",
       "    </tr>\n",
       "    <tr>\n",
       "      <th>1425</th>\n",
       "      <td>SARS-CoV2</td>\n",
       "      <td>RNPC3</td>\n",
       "      <td>AP-MS</td>\n",
       "      <td>33060197</td>\n",
       "      <td>NaN</td>\n",
       "      <td>NaN</td>\n",
       "      <td>NaN</td>\n",
       "    </tr>\n",
       "    <tr>\n",
       "      <th>1426</th>\n",
       "      <td>SARS-CoV2</td>\n",
       "      <td>MARC1</td>\n",
       "      <td>AP-MS</td>\n",
       "      <td>33060197</td>\n",
       "      <td>NaN</td>\n",
       "      <td>NaN</td>\n",
       "      <td>NaN</td>\n",
       "    </tr>\n",
       "  </tbody>\n",
       "</table>\n",
       "<p>1427 rows × 7 columns</p>\n",
       "</div>"
      ],
      "text/plain": [
       "          Virus Host Gene Host Gene Type  \\\n",
       "0     SARS-CoV2    NUP155          AP-MS   \n",
       "1     SARS-CoV2     STUB1          AP-MS   \n",
       "2     SARS-CoV2      XPO4          AP-MS   \n",
       "3     SARS-CoV2     IPO11          AP-MS   \n",
       "4     SARS-CoV2     EXOC7          AP-MS   \n",
       "...         ...       ...            ...   \n",
       "1422  SARS-CoV2    SSX2IP          AP-MS   \n",
       "1423  SARS-CoV2      SIK3          AP-MS   \n",
       "1424  SARS-CoV2   COMMD10          AP-MS   \n",
       "1425  SARS-CoV2     RNPC3          AP-MS   \n",
       "1426  SARS-CoV2     MARC1          AP-MS   \n",
       "\n",
       "                          Host Gene Source  Direction Direciton Type  \\\n",
       "0                       j.medj.2020.07.002        NaN            NaN   \n",
       "1     2020.06.17.156455,j.medj.2020.07.002        NaN            NaN   \n",
       "2                       j.medj.2020.07.002        NaN            NaN   \n",
       "3     2020.06.17.156455,j.medj.2020.07.002        NaN            NaN   \n",
       "4                       j.medj.2020.07.002        NaN            NaN   \n",
       "...                                    ...        ...            ...   \n",
       "1422                              33060197        NaN            NaN   \n",
       "1423                              33060197        NaN            NaN   \n",
       "1424                              33060197        NaN            NaN   \n",
       "1425                              33060197        NaN            NaN   \n",
       "1426                              33060197        NaN            NaN   \n",
       "\n",
       "     Direction Source  \n",
       "0                 NaN  \n",
       "1                 NaN  \n",
       "2                 NaN  \n",
       "3                 NaN  \n",
       "4                 NaN  \n",
       "...               ...  \n",
       "1422              NaN  \n",
       "1423              NaN  \n",
       "1424              NaN  \n",
       "1425              NaN  \n",
       "1426              NaN  \n",
       "\n",
       "[1427 rows x 7 columns]"
      ]
     },
     "execution_count": 25,
     "metadata": {},
     "output_type": "execute_result"
    }
   ],
   "source": [
    "sarscov2_GSE171430"
   ]
  },
  {
   "cell_type": "markdown",
   "metadata": {},
   "source": [
    "### GSE166990"
   ]
  },
  {
   "cell_type": "code",
   "execution_count": 26,
   "metadata": {},
   "outputs": [
    {
     "name": "stdout",
     "output_type": "stream",
     "text": [
      "29\n"
     ]
    }
   ],
   "source": [
    "GSE166990 = pd.read_csv('/f/zhangwenwen/project/COVID-19/source_with_direction/PPI/DEGs/SARS-CoV2_GSE166990_iDEP.csv')\n",
    "GSE166990 = GSE166990[(GSE166990['adj-P-Val'] <= 0.05) & (\n",
    "    (GSE166990['logFC'] >= 1) | (GSE166990['logFC'] <= -1))]\n",
    "GSE166990 = GSE166990.drop_duplicates('Symbol')\n",
    "print(len(GSE166990))"
   ]
  },
  {
   "cell_type": "code",
   "execution_count": 27,
   "metadata": {},
   "outputs": [
    {
     "name": "stdout",
     "output_type": "stream",
     "text": [
      "5\n"
     ]
    }
   ],
   "source": [
    "sarscov2_GSE166990 = sarscov2.merge(GSE166990,\n",
    "                                 left_on='Host Gene',\n",
    "                                 right_on='Symbol',\n",
    "                                 how='left')\n",
    "print(len(sarscov2_GSE166990[sarscov2_GSE166990['Symbol'].notnull()]))\n",
    "sarscov2_GSE166990['Direction'] = sarscov2_GSE166990[\n",
    "    'logFC'] / sarscov2_GSE166990['logFC'].abs()\n",
    "sarscov2_GSE166990.loc[sarscov2_GSE166990['Direction'].notnull(),\n",
    "                      'Direciton Type'] = 'DEG'\n",
    "sarscov2_GSE166990.loc[sarscov2_GSE166990['Direction'].notnull(),\n",
    "                      'Direction Source'] = 'GSE171430'\n",
    "sarscov2_GSE166990 = sarscov2_GSE166990[[\n",
    "    'Virus', 'Host Gene', 'Host Gene Type', 'Host Gene Source', 'Direction',\n",
    "    'Direciton Type', 'Direction Source'\n",
    "]]"
   ]
  },
  {
   "cell_type": "code",
   "execution_count": 28,
   "metadata": {},
   "outputs": [
    {
     "data": {
      "text/html": [
       "<div>\n",
       "<style scoped>\n",
       "    .dataframe tbody tr th:only-of-type {\n",
       "        vertical-align: middle;\n",
       "    }\n",
       "\n",
       "    .dataframe tbody tr th {\n",
       "        vertical-align: top;\n",
       "    }\n",
       "\n",
       "    .dataframe thead th {\n",
       "        text-align: right;\n",
       "    }\n",
       "</style>\n",
       "<table border=\"1\" class=\"dataframe\">\n",
       "  <thead>\n",
       "    <tr style=\"text-align: right;\">\n",
       "      <th></th>\n",
       "      <th>Virus</th>\n",
       "      <th>Host Gene</th>\n",
       "      <th>Host Gene Type</th>\n",
       "      <th>Host Gene Source</th>\n",
       "      <th>Direction</th>\n",
       "      <th>Direciton Type</th>\n",
       "      <th>Direction Source</th>\n",
       "    </tr>\n",
       "  </thead>\n",
       "  <tbody>\n",
       "    <tr>\n",
       "      <th>0</th>\n",
       "      <td>SARS-CoV2</td>\n",
       "      <td>NUP155</td>\n",
       "      <td>AP-MS</td>\n",
       "      <td>j.medj.2020.07.002</td>\n",
       "      <td>NaN</td>\n",
       "      <td>NaN</td>\n",
       "      <td>NaN</td>\n",
       "    </tr>\n",
       "    <tr>\n",
       "      <th>1</th>\n",
       "      <td>SARS-CoV2</td>\n",
       "      <td>STUB1</td>\n",
       "      <td>AP-MS</td>\n",
       "      <td>2020.06.17.156455,j.medj.2020.07.002</td>\n",
       "      <td>NaN</td>\n",
       "      <td>NaN</td>\n",
       "      <td>NaN</td>\n",
       "    </tr>\n",
       "    <tr>\n",
       "      <th>2</th>\n",
       "      <td>SARS-CoV2</td>\n",
       "      <td>XPO4</td>\n",
       "      <td>AP-MS</td>\n",
       "      <td>j.medj.2020.07.002</td>\n",
       "      <td>NaN</td>\n",
       "      <td>NaN</td>\n",
       "      <td>NaN</td>\n",
       "    </tr>\n",
       "    <tr>\n",
       "      <th>3</th>\n",
       "      <td>SARS-CoV2</td>\n",
       "      <td>IPO11</td>\n",
       "      <td>AP-MS</td>\n",
       "      <td>2020.06.17.156455,j.medj.2020.07.002</td>\n",
       "      <td>NaN</td>\n",
       "      <td>NaN</td>\n",
       "      <td>NaN</td>\n",
       "    </tr>\n",
       "    <tr>\n",
       "      <th>4</th>\n",
       "      <td>SARS-CoV2</td>\n",
       "      <td>EXOC7</td>\n",
       "      <td>AP-MS</td>\n",
       "      <td>j.medj.2020.07.002</td>\n",
       "      <td>NaN</td>\n",
       "      <td>NaN</td>\n",
       "      <td>NaN</td>\n",
       "    </tr>\n",
       "    <tr>\n",
       "      <th>...</th>\n",
       "      <td>...</td>\n",
       "      <td>...</td>\n",
       "      <td>...</td>\n",
       "      <td>...</td>\n",
       "      <td>...</td>\n",
       "      <td>...</td>\n",
       "      <td>...</td>\n",
       "    </tr>\n",
       "    <tr>\n",
       "      <th>1422</th>\n",
       "      <td>SARS-CoV2</td>\n",
       "      <td>SSX2IP</td>\n",
       "      <td>AP-MS</td>\n",
       "      <td>33060197</td>\n",
       "      <td>NaN</td>\n",
       "      <td>NaN</td>\n",
       "      <td>NaN</td>\n",
       "    </tr>\n",
       "    <tr>\n",
       "      <th>1423</th>\n",
       "      <td>SARS-CoV2</td>\n",
       "      <td>SIK3</td>\n",
       "      <td>AP-MS</td>\n",
       "      <td>33060197</td>\n",
       "      <td>NaN</td>\n",
       "      <td>NaN</td>\n",
       "      <td>NaN</td>\n",
       "    </tr>\n",
       "    <tr>\n",
       "      <th>1424</th>\n",
       "      <td>SARS-CoV2</td>\n",
       "      <td>COMMD10</td>\n",
       "      <td>AP-MS</td>\n",
       "      <td>33060197</td>\n",
       "      <td>NaN</td>\n",
       "      <td>NaN</td>\n",
       "      <td>NaN</td>\n",
       "    </tr>\n",
       "    <tr>\n",
       "      <th>1425</th>\n",
       "      <td>SARS-CoV2</td>\n",
       "      <td>RNPC3</td>\n",
       "      <td>AP-MS</td>\n",
       "      <td>33060197</td>\n",
       "      <td>NaN</td>\n",
       "      <td>NaN</td>\n",
       "      <td>NaN</td>\n",
       "    </tr>\n",
       "    <tr>\n",
       "      <th>1426</th>\n",
       "      <td>SARS-CoV2</td>\n",
       "      <td>MARC1</td>\n",
       "      <td>AP-MS</td>\n",
       "      <td>33060197</td>\n",
       "      <td>NaN</td>\n",
       "      <td>NaN</td>\n",
       "      <td>NaN</td>\n",
       "    </tr>\n",
       "  </tbody>\n",
       "</table>\n",
       "<p>1427 rows × 7 columns</p>\n",
       "</div>"
      ],
      "text/plain": [
       "          Virus Host Gene Host Gene Type  \\\n",
       "0     SARS-CoV2    NUP155          AP-MS   \n",
       "1     SARS-CoV2     STUB1          AP-MS   \n",
       "2     SARS-CoV2      XPO4          AP-MS   \n",
       "3     SARS-CoV2     IPO11          AP-MS   \n",
       "4     SARS-CoV2     EXOC7          AP-MS   \n",
       "...         ...       ...            ...   \n",
       "1422  SARS-CoV2    SSX2IP          AP-MS   \n",
       "1423  SARS-CoV2      SIK3          AP-MS   \n",
       "1424  SARS-CoV2   COMMD10          AP-MS   \n",
       "1425  SARS-CoV2     RNPC3          AP-MS   \n",
       "1426  SARS-CoV2     MARC1          AP-MS   \n",
       "\n",
       "                          Host Gene Source  Direction Direciton Type  \\\n",
       "0                       j.medj.2020.07.002        NaN            NaN   \n",
       "1     2020.06.17.156455,j.medj.2020.07.002        NaN            NaN   \n",
       "2                       j.medj.2020.07.002        NaN            NaN   \n",
       "3     2020.06.17.156455,j.medj.2020.07.002        NaN            NaN   \n",
       "4                       j.medj.2020.07.002        NaN            NaN   \n",
       "...                                    ...        ...            ...   \n",
       "1422                              33060197        NaN            NaN   \n",
       "1423                              33060197        NaN            NaN   \n",
       "1424                              33060197        NaN            NaN   \n",
       "1425                              33060197        NaN            NaN   \n",
       "1426                              33060197        NaN            NaN   \n",
       "\n",
       "     Direction Source  \n",
       "0                 NaN  \n",
       "1                 NaN  \n",
       "2                 NaN  \n",
       "3                 NaN  \n",
       "4                 NaN  \n",
       "...               ...  \n",
       "1422              NaN  \n",
       "1423              NaN  \n",
       "1424              NaN  \n",
       "1425              NaN  \n",
       "1426              NaN  \n",
       "\n",
       "[1427 rows x 7 columns]"
      ]
     },
     "execution_count": 28,
     "metadata": {},
     "output_type": "execute_result"
    }
   ],
   "source": [
    "sarscov2_GSE166990"
   ]
  },
  {
   "cell_type": "markdown",
   "metadata": {},
   "source": [
    "# Merge"
   ]
  },
  {
   "cell_type": "markdown",
   "metadata": {},
   "source": [
    "## used direction source"
   ]
  },
  {
   "cell_type": "markdown",
   "metadata": {},
   "source": [
    "### MERS-CoV: GSE122876, SARS-CoV: GSE33267, SARS-CoV2: GSE152586"
   ]
  },
  {
   "cell_type": "code",
   "execution_count": 29,
   "metadata": {},
   "outputs": [],
   "source": [
    "all_ppi_DEG = pd.concat([merscov_GSE122876,sarscov_GSE33267,sarscov2_GSE152586],ignore_index=True)"
   ]
  },
  {
   "cell_type": "code",
   "execution_count": 30,
   "metadata": {},
   "outputs": [],
   "source": [
    "all_ppi_DEG.to_excel('/f/zhangwenwen/project/COVID-19/source_with_direction/PPI/PPI_allsource_DEG.xlsx',index=False)"
   ]
  },
  {
   "cell_type": "code",
   "execution_count": 31,
   "metadata": {},
   "outputs": [
    {
     "data": {
      "text/plain": [
       "<matplotlib_venn._common.VennDiagram at 0x7f23db9f9bb0>"
      ]
     },
     "execution_count": 31,
     "metadata": {},
     "output_type": "execute_result"
    },
    {
     "data": {
      "image/png": "[encoded data removed]",
      "text/plain": [
       "<Figure size 360x360 with 1 Axes>"
      ]
     },
     "metadata": {},
     "output_type": "display_data"
    }
   ],
   "source": [
    "ppi_all = pd.read_excel('/f/zhangwenwen/project/COVID-19/source_with_direction/PPI/PPI_allsource_DEG.xlsx')\n",
    "ppi_all = ppi_all[ppi_all['Direction'].notnull()]\n",
    "list_a = ppi_all[ppi_all['Virus']=='MERS-CoV']['Host Gene'].values\n",
    "list_b = ppi_all[ppi_all['Virus']=='SARS-CoV']['Host Gene'].values\n",
    "list_c = ppi_all[ppi_all['Virus']=='SARS-CoV2']['Host Gene'].values\n",
    "\n",
    "f, ax = plt.subplots( figsize=(5,5))\n",
    "venn3([set(list_a),set(list_b),set(list_c)],\n",
    "      ax=ax,\n",
    "      set_colors=('r','g', 'b'),\n",
    "      set_labels=('MERS-CoV', 'SARS-CoV','SARS-CoV2'),)"
   ]
  },
  {
   "cell_type": "markdown",
   "metadata": {},
   "source": [
    "# all_source"
   ]
  },
  {
   "cell_type": "code",
   "execution_count": 32,
   "metadata": {},
   "outputs": [],
   "source": [
    "all_source = pd.read_excel('/f/zhangwenwen/project/COVID-19/source_with_direction/all_source_new.xlsx')"
   ]
  },
  {
   "cell_type": "code",
   "execution_count": 33,
   "metadata": {},
   "outputs": [
    {
     "data": {
      "text/plain": [
       "SARS-CoV2    2296\n",
       "SARS-CoV     1255\n",
       "MERS-CoV      621\n",
       "Name: Virus, dtype: int64"
      ]
     },
     "execution_count": 33,
     "metadata": {},
     "output_type": "execute_result"
    }
   ],
   "source": [
    "all_source['Virus'].value_counts()"
   ]
  },
  {
   "cell_type": "code",
   "execution_count": 34,
   "metadata": {},
   "outputs": [
    {
     "data": {
      "text/plain": [
       "<matplotlib_venn._common.VennDiagram at 0x7f23dba7a730>"
      ]
     },
     "execution_count": 34,
     "metadata": {},
     "output_type": "execute_result"
    },
    {
     "data": {
      "image/png": "[encoded data removed]",
      "text/plain": [
       "<Figure size 360x360 with 1 Axes>"
      ]
     },
     "metadata": {},
     "output_type": "display_data"
    }
   ],
   "source": [
    "list_a = all_source[all_source['Virus']=='MERS-CoV']['Host Gene'].values\n",
    "list_b = all_source[all_source['Virus']=='SARS-CoV']['Host Gene'].values\n",
    "list_c = all_source[all_source['Virus']=='SARS-CoV2']['Host Gene'].values\n",
    "\n",
    "f, ax = plt.subplots( figsize=(5,5))\n",
    "venn3([set(list_a),set(list_b),set(list_c)],\n",
    "      ax=ax,\n",
    "      set_colors=('r','g', 'b'),\n",
    "      set_labels=('MERS-CoV', 'SARS-CoV','SARS-CoV2'),)"
   ]
  },
  {
   "cell_type": "code",
   "execution_count": 35,
   "metadata": {},
   "outputs": [
    {
     "name": "stdout",
     "output_type": "stream",
     "text": [
      "MERS-CoV\n",
      "SARS-CoV\n",
      "SARS-CoV2\n"
     ]
    },
    {
     "name": "stderr",
     "output_type": "stream",
     "text": [
      "/f/zhangwenwen/anaconda3/lib/python3.8/site-packages/matplotlib_venn/_venn3.py:57: UserWarning: Circle B has zero area\n",
      "  warnings.warn(\"Circle B has zero area\")\n"
     ]
    },
    {
     "data": {
      "image/png": "[encoded data removed]",
      "text/plain": [
       "<Figure size 360x360 with 1 Axes>"
      ]
     },
     "metadata": {},
     "output_type": "display_data"
    },
    {
     "data": {
      "image/png": "[encoded data removed]",
      "text/plain": [
       "<Figure size 360x360 with 1 Axes>"
      ]
     },
     "metadata": {},
     "output_type": "display_data"
    },
    {
     "data": {
      "image/png": "[encoded data removed]",
      "text/plain": [
       "<Figure size 360x360 with 1 Axes>"
      ]
     },
     "metadata": {},
     "output_type": "display_data"
    }
   ],
   "source": [
    "for virus in ['MERS-CoV','SARS-CoV','SARS-CoV2']:\n",
    "    virus_genes = all_source[all_source['Virus']==virus]\n",
    "    list_a = virus_genes[virus_genes['Host Gene Type']=='CRISPR-Screening']['Host Gene'].values\n",
    "    list_b = virus_genes[virus_genes['Host Gene Type']=='GWAS']['Host Gene'].values\n",
    "    list_c = virus_genes[virus_genes['Host Gene Type'].isin(['Other','AP-MS','STRING.Viruses'])]['Host Gene'].values\n",
    "    print(virus)\n",
    "    f, ax = plt.subplots( figsize=(5,5))\n",
    "    venn3([set(list_a),set(list_b),set(list_c)],\n",
    "          ax=ax,\n",
    "          set_colors=('r','g', 'b'),\n",
    "          set_labels=('CRISPR-Screening', 'GWAS','PPI'),)\n",
    "    ax.set_title(virus)"
   ]
  },
  {
   "cell_type": "markdown",
   "metadata": {},
   "source": [
    "# All host genes with known direction"
   ]
  },
  {
   "cell_type": "code",
   "execution_count": 36,
   "metadata": {},
   "outputs": [],
   "source": [
    "all_source_direction = all_source.drop(all_source[(all_source['Direction']==0)].index)\n",
    "all_source_direction = all_source_direction.dropna(subset=['Direction'])"
   ]
  },
  {
   "cell_type": "code",
   "execution_count": 37,
   "metadata": {},
   "outputs": [
    {
     "data": {
      "text/html": [
       "<div>\n",
       "<style scoped>\n",
       "    .dataframe tbody tr th:only-of-type {\n",
       "        vertical-align: middle;\n",
       "    }\n",
       "\n",
       "    .dataframe tbody tr th {\n",
       "        vertical-align: top;\n",
       "    }\n",
       "\n",
       "    .dataframe thead th {\n",
       "        text-align: right;\n",
       "    }\n",
       "</style>\n",
       "<table border=\"1\" class=\"dataframe\">\n",
       "  <thead>\n",
       "    <tr style=\"text-align: right;\">\n",
       "      <th></th>\n",
       "      <th>Virus</th>\n",
       "      <th>Host Gene</th>\n",
       "      <th>Host Gene Type</th>\n",
       "      <th>Host Gene Source</th>\n",
       "      <th>Direction</th>\n",
       "      <th>Direciton Type</th>\n",
       "      <th>Direction Source</th>\n",
       "    </tr>\n",
       "  </thead>\n",
       "  <tbody>\n",
       "    <tr>\n",
       "      <th>0</th>\n",
       "      <td>SARS-CoV2</td>\n",
       "      <td>CCR9</td>\n",
       "      <td>GWAS</td>\n",
       "      <td>COVID19GRASP489</td>\n",
       "      <td>1.0</td>\n",
       "      <td>eQTL</td>\n",
       "      <td>gtex_v8</td>\n",
       "    </tr>\n",
       "    <tr>\n",
       "      <th>1</th>\n",
       "      <td>SARS-CoV2</td>\n",
       "      <td>FLT1P1</td>\n",
       "      <td>GWAS</td>\n",
       "      <td>COVID19GRASP489</td>\n",
       "      <td>-1.0</td>\n",
       "      <td>eQTL</td>\n",
       "      <td>gtex_v8</td>\n",
       "    </tr>\n",
       "    <tr>\n",
       "      <th>2</th>\n",
       "      <td>SARS-CoV2</td>\n",
       "      <td>CCR3</td>\n",
       "      <td>GWAS</td>\n",
       "      <td>COVID19GRASP488</td>\n",
       "      <td>-1.0</td>\n",
       "      <td>eQTL</td>\n",
       "      <td>gtex_v8</td>\n",
       "    </tr>\n",
       "    <tr>\n",
       "      <th>3</th>\n",
       "      <td>SARS-CoV2</td>\n",
       "      <td>CXCR6</td>\n",
       "      <td>GWAS</td>\n",
       "      <td>COVID19GRASP488</td>\n",
       "      <td>-1.0</td>\n",
       "      <td>eQTL</td>\n",
       "      <td>gtex_v8</td>\n",
       "    </tr>\n",
       "    <tr>\n",
       "      <th>4</th>\n",
       "      <td>SARS-CoV2</td>\n",
       "      <td>CCR5</td>\n",
       "      <td>GWAS</td>\n",
       "      <td>COVID19GRASP488</td>\n",
       "      <td>-1.0</td>\n",
       "      <td>eQTL</td>\n",
       "      <td>gtex_v8</td>\n",
       "    </tr>\n",
       "    <tr>\n",
       "      <th>...</th>\n",
       "      <td>...</td>\n",
       "      <td>...</td>\n",
       "      <td>...</td>\n",
       "      <td>...</td>\n",
       "      <td>...</td>\n",
       "      <td>...</td>\n",
       "      <td>...</td>\n",
       "    </tr>\n",
       "    <tr>\n",
       "      <th>4132</th>\n",
       "      <td>SARS-CoV2</td>\n",
       "      <td>DNA2</td>\n",
       "      <td>AP-MS</td>\n",
       "      <td>33060197</td>\n",
       "      <td>-1.0</td>\n",
       "      <td>DEG</td>\n",
       "      <td>GSE152586</td>\n",
       "    </tr>\n",
       "    <tr>\n",
       "      <th>4139</th>\n",
       "      <td>SARS-CoV2</td>\n",
       "      <td>CEP55</td>\n",
       "      <td>AP-MS</td>\n",
       "      <td>33060197</td>\n",
       "      <td>-1.0</td>\n",
       "      <td>DEG</td>\n",
       "      <td>GSE152586</td>\n",
       "    </tr>\n",
       "    <tr>\n",
       "      <th>4143</th>\n",
       "      <td>SARS-CoV2</td>\n",
       "      <td>LRCH2</td>\n",
       "      <td>AP-MS</td>\n",
       "      <td>33060197</td>\n",
       "      <td>1.0</td>\n",
       "      <td>DEG</td>\n",
       "      <td>GSE152586</td>\n",
       "    </tr>\n",
       "    <tr>\n",
       "      <th>4164</th>\n",
       "      <td>SARS-CoV2</td>\n",
       "      <td>USP25</td>\n",
       "      <td>AP-MS</td>\n",
       "      <td>33060197</td>\n",
       "      <td>1.0</td>\n",
       "      <td>DEG</td>\n",
       "      <td>GSE152586</td>\n",
       "    </tr>\n",
       "    <tr>\n",
       "      <th>4168</th>\n",
       "      <td>SARS-CoV2</td>\n",
       "      <td>SIK3</td>\n",
       "      <td>AP-MS</td>\n",
       "      <td>33060197</td>\n",
       "      <td>1.0</td>\n",
       "      <td>DEG</td>\n",
       "      <td>GSE152586</td>\n",
       "    </tr>\n",
       "  </tbody>\n",
       "</table>\n",
       "<p>1827 rows × 7 columns</p>\n",
       "</div>"
      ],
      "text/plain": [
       "          Virus Host Gene Host Gene Type Host Gene Source  Direction  \\\n",
       "0     SARS-CoV2      CCR9           GWAS  COVID19GRASP489        1.0   \n",
       "1     SARS-CoV2    FLT1P1           GWAS  COVID19GRASP489       -1.0   \n",
       "2     SARS-CoV2      CCR3           GWAS  COVID19GRASP488       -1.0   \n",
       "3     SARS-CoV2     CXCR6           GWAS  COVID19GRASP488       -1.0   \n",
       "4     SARS-CoV2      CCR5           GWAS  COVID19GRASP488       -1.0   \n",
       "...         ...       ...            ...              ...        ...   \n",
       "4132  SARS-CoV2      DNA2          AP-MS         33060197       -1.0   \n",
       "4139  SARS-CoV2     CEP55          AP-MS         33060197       -1.0   \n",
       "4143  SARS-CoV2     LRCH2          AP-MS         33060197        1.0   \n",
       "4164  SARS-CoV2     USP25          AP-MS         33060197        1.0   \n",
       "4168  SARS-CoV2      SIK3          AP-MS         33060197        1.0   \n",
       "\n",
       "     Direciton Type Direction Source  \n",
       "0              eQTL          gtex_v8  \n",
       "1              eQTL          gtex_v8  \n",
       "2              eQTL          gtex_v8  \n",
       "3              eQTL          gtex_v8  \n",
       "4              eQTL          gtex_v8  \n",
       "...             ...              ...  \n",
       "4132            DEG        GSE152586  \n",
       "4139            DEG        GSE152586  \n",
       "4143            DEG        GSE152586  \n",
       "4164            DEG        GSE152586  \n",
       "4168            DEG        GSE152586  \n",
       "\n",
       "[1827 rows x 7 columns]"
      ]
     },
     "execution_count": 37,
     "metadata": {},
     "output_type": "execute_result"
    }
   ],
   "source": [
    "all_source_direction"
   ]
  },
  {
   "cell_type": "code",
   "execution_count": 38,
   "metadata": {},
   "outputs": [],
   "source": [
    "all_source_direction.to_excel('/f/zhangwenwen/project/COVID-19/source_with_direction/all_source_direction.xlsx',index=False)"
   ]
  },
  {
   "cell_type": "code",
   "execution_count": 39,
   "metadata": {},
   "outputs": [],
   "source": [
    "all_source = pd.read_excel('/f/zhangwenwen/project/COVID-19/source_with_direction/all_source_direction.xlsx')"
   ]
  },
  {
   "cell_type": "code",
   "execution_count": 40,
   "metadata": {},
   "outputs": [
    {
     "data": {
      "text/plain": [
       "SARS-CoV2    981\n",
       "SARS-CoV     485\n",
       "MERS-CoV     361\n",
       "Name: Virus, dtype: int64"
      ]
     },
     "execution_count": 40,
     "metadata": {},
     "output_type": "execute_result"
    }
   ],
   "source": [
    "all_source['Virus'].value_counts()"
   ]
  },
  {
   "cell_type": "code",
   "execution_count": 41,
   "metadata": {},
   "outputs": [
    {
     "data": {
      "text/plain": [
       "<matplotlib_venn._common.VennDiagram at 0x7f23dbf17a60>"
      ]
     },
     "execution_count": 41,
     "metadata": {},
     "output_type": "execute_result"
    },
    {
     "data": {
      "image/png": "[encoded data removed]",
      "text/plain": [
       "<Figure size 360x360 with 1 Axes>"
      ]
     },
     "metadata": {},
     "output_type": "display_data"
    }
   ],
   "source": [
    "list_a = all_source[all_source['Virus']=='MERS-CoV']['Host Gene'].values\n",
    "list_b = all_source[all_source['Virus']=='SARS-CoV']['Host Gene'].values\n",
    "list_c = all_source[all_source['Virus']=='SARS-CoV2']['Host Gene'].values\n",
    "\n",
    "f, ax = plt.subplots( figsize=(5,5))\n",
    "venn3([set(list_a),set(list_b),set(list_c)],\n",
    "      ax=ax,\n",
    "      set_colors=('r','g', 'b'),\n",
    "      set_labels=('MERS-CoV', 'SARS-CoV','SARS-CoV2'),)"
   ]
  },
  {
   "cell_type": "code",
   "execution_count": 42,
   "metadata": {},
   "outputs": [
    {
     "name": "stdout",
     "output_type": "stream",
     "text": [
      "MERS-CoV\n",
      "SARS-CoV\n",
      "SARS-CoV2\n"
     ]
    },
    {
     "name": "stderr",
     "output_type": "stream",
     "text": [
      "/f/zhangwenwen/anaconda3/lib/python3.8/site-packages/matplotlib_venn/_venn3.py:57: UserWarning: Circle B has zero area\n",
      "  warnings.warn(\"Circle B has zero area\")\n"
     ]
    },
    {
     "data": {
      "image/png": "[encoded data removed]",
      "text/plain": [
       "<Figure size 360x360 with 1 Axes>"
      ]
     },
     "metadata": {},
     "output_type": "display_data"
    },
    {
     "data": {
      "image/png": "[encoded data removed]",
      "text/plain": [
       "<Figure size 360x360 with 1 Axes>"
      ]
     },
     "metadata": {},
     "output_type": "display_data"
    },
    {
     "data": {
      "image/png": "[encoded data removed]",
      "text/plain": [
       "<Figure size 360x360 with 1 Axes>"
      ]
     },
     "metadata": {},
     "output_type": "display_data"
    }
   ],
   "source": [
    "for virus in ['MERS-CoV','SARS-CoV','SARS-CoV2']:\n",
    "    virus_genes = all_source[all_source['Virus']==virus]\n",
    "    list_a = virus_genes[virus_genes['Host Gene Type']=='CRISPR-Screening']['Host Gene'].values\n",
    "    list_b = virus_genes[virus_genes['Host Gene Type']=='GWAS']['Host Gene'].values\n",
    "    list_c = virus_genes[virus_genes['Host Gene Type'].isin(['Other','AP-MS','STRING.Viruses'])]['Host Gene'].values\n",
    "    print(virus)\n",
    "    f, ax = plt.subplots( figsize=(5,5))\n",
    "    venn3([set(list_a),set(list_b),set(list_c)],\n",
    "          ax=ax,\n",
    "          set_colors=('r','g', 'b'),\n",
    "          set_labels=('CRISPR-Screening', 'GWAS','PPI'),)\n",
    "    ax.set_title(virus)"
   ]
  },
  {
   "cell_type": "code",
   "execution_count": null,
   "metadata": {},
   "outputs": [],
   "source": []
  },
  {
   "cell_type": "code",
   "execution_count": 43,
   "metadata": {},
   "outputs": [],
   "source": [
    "counts = all_source[['Virus','Host Gene']].value_counts()"
   ]
  },
  {
   "cell_type": "code",
   "execution_count": 44,
   "metadata": {},
   "outputs": [],
   "source": [
    "counts = counts[counts>1]"
   ]
  },
  {
   "cell_type": "code",
   "execution_count": 45,
   "metadata": {},
   "outputs": [
    {
     "data": {
      "text/plain": [
       "pandas.core.series.Series"
      ]
     },
     "execution_count": 45,
     "metadata": {},
     "output_type": "execute_result"
    }
   ],
   "source": [
    "type(counts)"
   ]
  },
  {
   "cell_type": "code",
   "execution_count": 46,
   "metadata": {},
   "outputs": [
    {
     "data": {
      "text/plain": [
       "MultiIndex([('SARS-CoV2',        'ACE2'),\n",
       "            ('SARS-CoV2',        'CTSL'),\n",
       "            ('SARS-CoV2',       'ARPC4'),\n",
       "            ('SARS-CoV2',    'KIAA1033'),\n",
       "            ( 'SARS-CoV',       'USP34'),\n",
       "            ('SARS-CoV2',       'RAB7A'),\n",
       "            ('SARS-CoV2',       'CCZ1B'),\n",
       "            ('SARS-CoV2',        'PHIP'),\n",
       "            ('SARS-CoV2',       'ASXL1'),\n",
       "            ('SARS-CoV2',     'PYROXD1'),\n",
       "            ('SARS-CoV2',       'WDR91'),\n",
       "            ('SARS-CoV2',     'ATP6AP1'),\n",
       "            ('SARS-CoV2',        'SCLY'),\n",
       "            ('SARS-CoV2',     'ATP6V0C'),\n",
       "            ('SARS-CoV2',       'HLA-C'),\n",
       "            ('SARS-CoV2',       'DTYMK'),\n",
       "            ('SARS-CoV2',       'DSTYK'),\n",
       "            ('SARS-CoV2',       'VPS35'),\n",
       "            ('SARS-CoV2',       'VPS29'),\n",
       "            ('SARS-CoV2',      'CCDC22'),\n",
       "            ( 'MERS-CoV',     'SPTY2D1'),\n",
       "            ('SARS-CoV2',       'KEAP1'),\n",
       "            ('SARS-CoV2',      'CCDC93'),\n",
       "            ('SARS-CoV2',       'NUBP2'),\n",
       "            ('SARS-CoV2',        'DNA2'),\n",
       "            ('SARS-CoV2',     'SMARCB1'),\n",
       "            ('SARS-CoV2',      'COMMD2'),\n",
       "            ('SARS-CoV2',       'ACTR3'),\n",
       "            ( 'SARS-CoV',      'RNF130'),\n",
       "            ('SARS-CoV2',       'PLIN2'),\n",
       "            ('SARS-CoV2',      'SLC4A4'),\n",
       "            ('SARS-CoV2',       'HMOX2'),\n",
       "            ( 'SARS-CoV',      'LRRC47'),\n",
       "            ('SARS-CoV2',     'COMMD10'),\n",
       "            ('SARS-CoV2',       'BMPR2'),\n",
       "            ('SARS-CoV2',       'RPS11'),\n",
       "            ('SARS-CoV2',       'SNX27'),\n",
       "            ('SARS-CoV2',       'ACTR2'),\n",
       "            ('SARS-CoV2',      'COMMD3'),\n",
       "            ('SARS-CoV2', 'COMMD3-BMI1'),\n",
       "            ('SARS-CoV2',      'TIMM10'),\n",
       "            ('SARS-CoV2',      'COMMD4'),\n",
       "            ( 'SARS-CoV',        'RYBP'),\n",
       "            ('SARS-CoV2',       'PGAP2')],\n",
       "           names=['Virus', 'Host Gene'])"
      ]
     },
     "execution_count": 46,
     "metadata": {},
     "output_type": "execute_result"
    }
   ],
   "source": [
    "counts.index"
   ]
  },
  {
   "cell_type": "code",
   "execution_count": 47,
   "metadata": {},
   "outputs": [
    {
     "data": {
      "text/html": [
       "<div>\n",
       "<style scoped>\n",
       "    .dataframe tbody tr th:only-of-type {\n",
       "        vertical-align: middle;\n",
       "    }\n",
       "\n",
       "    .dataframe tbody tr th {\n",
       "        vertical-align: top;\n",
       "    }\n",
       "\n",
       "    .dataframe thead th {\n",
       "        text-align: right;\n",
       "    }\n",
       "</style>\n",
       "<table border=\"1\" class=\"dataframe\">\n",
       "  <thead>\n",
       "    <tr style=\"text-align: right;\">\n",
       "      <th></th>\n",
       "      <th>Virus</th>\n",
       "      <th>Host Gene</th>\n",
       "      <th>Host Gene Type</th>\n",
       "      <th>Host Gene Source</th>\n",
       "      <th>Direction</th>\n",
       "      <th>Direciton Type</th>\n",
       "      <th>Direction Source</th>\n",
       "    </tr>\n",
       "  </thead>\n",
       "  <tbody>\n",
       "    <tr>\n",
       "      <th>0</th>\n",
       "      <td>SARS-CoV2</td>\n",
       "      <td>CCR9</td>\n",
       "      <td>GWAS</td>\n",
       "      <td>COVID19GRASP489</td>\n",
       "      <td>1</td>\n",
       "      <td>eQTL</td>\n",
       "      <td>gtex_v8</td>\n",
       "    </tr>\n",
       "    <tr>\n",
       "      <th>1</th>\n",
       "      <td>SARS-CoV2</td>\n",
       "      <td>FLT1P1</td>\n",
       "      <td>GWAS</td>\n",
       "      <td>COVID19GRASP489</td>\n",
       "      <td>-1</td>\n",
       "      <td>eQTL</td>\n",
       "      <td>gtex_v8</td>\n",
       "    </tr>\n",
       "    <tr>\n",
       "      <th>2</th>\n",
       "      <td>SARS-CoV2</td>\n",
       "      <td>CCR3</td>\n",
       "      <td>GWAS</td>\n",
       "      <td>COVID19GRASP488</td>\n",
       "      <td>-1</td>\n",
       "      <td>eQTL</td>\n",
       "      <td>gtex_v8</td>\n",
       "    </tr>\n",
       "    <tr>\n",
       "      <th>3</th>\n",
       "      <td>SARS-CoV2</td>\n",
       "      <td>CXCR6</td>\n",
       "      <td>GWAS</td>\n",
       "      <td>COVID19GRASP488</td>\n",
       "      <td>-1</td>\n",
       "      <td>eQTL</td>\n",
       "      <td>gtex_v8</td>\n",
       "    </tr>\n",
       "    <tr>\n",
       "      <th>4</th>\n",
       "      <td>SARS-CoV2</td>\n",
       "      <td>CCR5</td>\n",
       "      <td>GWAS</td>\n",
       "      <td>COVID19GRASP488</td>\n",
       "      <td>-1</td>\n",
       "      <td>eQTL</td>\n",
       "      <td>gtex_v8</td>\n",
       "    </tr>\n",
       "    <tr>\n",
       "      <th>...</th>\n",
       "      <td>...</td>\n",
       "      <td>...</td>\n",
       "      <td>...</td>\n",
       "      <td>...</td>\n",
       "      <td>...</td>\n",
       "      <td>...</td>\n",
       "      <td>...</td>\n",
       "    </tr>\n",
       "    <tr>\n",
       "      <th>1822</th>\n",
       "      <td>SARS-CoV2</td>\n",
       "      <td>DNA2</td>\n",
       "      <td>AP-MS</td>\n",
       "      <td>33060197</td>\n",
       "      <td>-1</td>\n",
       "      <td>DEG</td>\n",
       "      <td>GSE152586</td>\n",
       "    </tr>\n",
       "    <tr>\n",
       "      <th>1823</th>\n",
       "      <td>SARS-CoV2</td>\n",
       "      <td>CEP55</td>\n",
       "      <td>AP-MS</td>\n",
       "      <td>33060197</td>\n",
       "      <td>-1</td>\n",
       "      <td>DEG</td>\n",
       "      <td>GSE152586</td>\n",
       "    </tr>\n",
       "    <tr>\n",
       "      <th>1824</th>\n",
       "      <td>SARS-CoV2</td>\n",
       "      <td>LRCH2</td>\n",
       "      <td>AP-MS</td>\n",
       "      <td>33060197</td>\n",
       "      <td>1</td>\n",
       "      <td>DEG</td>\n",
       "      <td>GSE152586</td>\n",
       "    </tr>\n",
       "    <tr>\n",
       "      <th>1825</th>\n",
       "      <td>SARS-CoV2</td>\n",
       "      <td>USP25</td>\n",
       "      <td>AP-MS</td>\n",
       "      <td>33060197</td>\n",
       "      <td>1</td>\n",
       "      <td>DEG</td>\n",
       "      <td>GSE152586</td>\n",
       "    </tr>\n",
       "    <tr>\n",
       "      <th>1826</th>\n",
       "      <td>SARS-CoV2</td>\n",
       "      <td>SIK3</td>\n",
       "      <td>AP-MS</td>\n",
       "      <td>33060197</td>\n",
       "      <td>1</td>\n",
       "      <td>DEG</td>\n",
       "      <td>GSE152586</td>\n",
       "    </tr>\n",
       "  </tbody>\n",
       "</table>\n",
       "<p>1827 rows × 7 columns</p>\n",
       "</div>"
      ],
      "text/plain": [
       "          Virus Host Gene Host Gene Type Host Gene Source  Direction  \\\n",
       "0     SARS-CoV2      CCR9           GWAS  COVID19GRASP489          1   \n",
       "1     SARS-CoV2    FLT1P1           GWAS  COVID19GRASP489         -1   \n",
       "2     SARS-CoV2      CCR3           GWAS  COVID19GRASP488         -1   \n",
       "3     SARS-CoV2     CXCR6           GWAS  COVID19GRASP488         -1   \n",
       "4     SARS-CoV2      CCR5           GWAS  COVID19GRASP488         -1   \n",
       "...         ...       ...            ...              ...        ...   \n",
       "1822  SARS-CoV2      DNA2          AP-MS         33060197         -1   \n",
       "1823  SARS-CoV2     CEP55          AP-MS         33060197         -1   \n",
       "1824  SARS-CoV2     LRCH2          AP-MS         33060197          1   \n",
       "1825  SARS-CoV2     USP25          AP-MS         33060197          1   \n",
       "1826  SARS-CoV2      SIK3          AP-MS         33060197          1   \n",
       "\n",
       "     Direciton Type Direction Source  \n",
       "0              eQTL          gtex_v8  \n",
       "1              eQTL          gtex_v8  \n",
       "2              eQTL          gtex_v8  \n",
       "3              eQTL          gtex_v8  \n",
       "4              eQTL          gtex_v8  \n",
       "...             ...              ...  \n",
       "1822            DEG        GSE152586  \n",
       "1823            DEG        GSE152586  \n",
       "1824            DEG        GSE152586  \n",
       "1825            DEG        GSE152586  \n",
       "1826            DEG        GSE152586  \n",
       "\n",
       "[1827 rows x 7 columns]"
      ]
     },
     "execution_count": 47,
     "metadata": {},
     "output_type": "execute_result"
    }
   ],
   "source": [
    "all_source"
   ]
  },
  {
   "cell_type": "code",
   "execution_count": 48,
   "metadata": {},
   "outputs": [
    {
     "name": "stdout",
     "output_type": "stream",
     "text": [
      "('SARS-CoV2', 'ARPC4')\n",
      "('SARS-CoV2', 'ATP6AP1')\n",
      "('SARS-CoV2', 'ATP6V0C')\n",
      "('SARS-CoV2', 'PLIN2')\n",
      "('SARS-CoV2', 'HMOX2')\n",
      "('SARS-CoV', 'LRRC47')\n",
      "('SARS-CoV2', 'RPS11')\n",
      "('SARS-CoV', 'RYBP')\n",
      "('SARS-CoV2', 'PGAP2')\n"
     ]
    }
   ],
   "source": [
    "for i in counts.index:\n",
    "    a = all_source[(all_source['Virus']==i[0])&(all_source['Host Gene']==i[1])]\n",
    "    if len(a['Direction'].value_counts()) >1:\n",
    "        print(i)\n",
    "        all_source = all_source[~((all_source['Virus']==i[0])&(all_source['Host Gene']==i[1]))]"
   ]
  },
  {
   "cell_type": "code",
   "execution_count": 49,
   "metadata": {},
   "outputs": [
    {
     "data": {
      "text/plain": [
       "2"
      ]
     },
     "execution_count": 49,
     "metadata": {},
     "output_type": "execute_result"
    }
   ],
   "source": [
    "len(a['Direction'].value_counts())"
   ]
  },
  {
   "cell_type": "code",
   "execution_count": 50,
   "metadata": {},
   "outputs": [
    {
     "data": {
      "text/html": [
       "<div>\n",
       "<style scoped>\n",
       "    .dataframe tbody tr th:only-of-type {\n",
       "        vertical-align: middle;\n",
       "    }\n",
       "\n",
       "    .dataframe tbody tr th {\n",
       "        vertical-align: top;\n",
       "    }\n",
       "\n",
       "    .dataframe thead th {\n",
       "        text-align: right;\n",
       "    }\n",
       "</style>\n",
       "<table border=\"1\" class=\"dataframe\">\n",
       "  <thead>\n",
       "    <tr style=\"text-align: right;\">\n",
       "      <th></th>\n",
       "      <th>Virus</th>\n",
       "      <th>Host Gene</th>\n",
       "      <th>Host Gene Type</th>\n",
       "      <th>Host Gene Source</th>\n",
       "      <th>Direction</th>\n",
       "      <th>Direciton Type</th>\n",
       "      <th>Direction Source</th>\n",
       "    </tr>\n",
       "  </thead>\n",
       "  <tbody>\n",
       "    <tr>\n",
       "      <th>465</th>\n",
       "      <td>SARS-CoV2</td>\n",
       "      <td>PGAP2</td>\n",
       "      <td>CRISPR-Screening</td>\n",
       "      <td>s41588-021-00805-2</td>\n",
       "      <td>1</td>\n",
       "      <td>CRISPR-Screening</td>\n",
       "      <td>s41588-021-00805-2</td>\n",
       "    </tr>\n",
       "    <tr>\n",
       "      <th>1124</th>\n",
       "      <td>SARS-CoV2</td>\n",
       "      <td>PGAP2</td>\n",
       "      <td>CRISPR-Screening</td>\n",
       "      <td>10.1016/j.cell.2020.10.028</td>\n",
       "      <td>-1</td>\n",
       "      <td>CRISPR-Screening</td>\n",
       "      <td>10.1016/j.cell.2020.10.028</td>\n",
       "    </tr>\n",
       "  </tbody>\n",
       "</table>\n",
       "</div>"
      ],
      "text/plain": [
       "          Virus Host Gene    Host Gene Type            Host Gene Source  \\\n",
       "465   SARS-CoV2     PGAP2  CRISPR-Screening          s41588-021-00805-2   \n",
       "1124  SARS-CoV2     PGAP2  CRISPR-Screening  10.1016/j.cell.2020.10.028   \n",
       "\n",
       "      Direction    Direciton Type            Direction Source  \n",
       "465           1  CRISPR-Screening          s41588-021-00805-2  \n",
       "1124         -1  CRISPR-Screening  10.1016/j.cell.2020.10.028  "
      ]
     },
     "execution_count": 50,
     "metadata": {},
     "output_type": "execute_result"
    }
   ],
   "source": [
    "a"
   ]
  },
  {
   "cell_type": "code",
   "execution_count": 51,
   "metadata": {},
   "outputs": [
    {
     "data": {
      "text/plain": [
       "SARS-CoV2    966\n",
       "SARS-CoV     481\n",
       "MERS-CoV     361\n",
       "Name: Virus, dtype: int64"
      ]
     },
     "execution_count": 51,
     "metadata": {},
     "output_type": "execute_result"
    }
   ],
   "source": [
    "all_source['Virus'].value_counts()"
   ]
  },
  {
   "cell_type": "code",
   "execution_count": 52,
   "metadata": {},
   "outputs": [],
   "source": [
    "all_source.to_excel('/f/zhangwenwen/project/COVID-19/source_with_direction/all_knowdirection.xlsx',index=False)"
   ]
  },
  {
   "cell_type": "code",
   "execution_count": 53,
   "metadata": {},
   "outputs": [
    {
     "name": "stdout",
     "output_type": "stream",
     "text": [
      "ACO1\n",
      "AMBRA1\n",
      "AP2M1\n",
      "ATP6AP2\n",
      "B4GAT1\n",
      "BRI3BP\n",
      "CCDC93\n",
      "CD38\n",
      "COMMD5\n",
      "DNAJB1\n",
      "ELOVL7\n",
      "EXOSC5\n",
      "EXT1\n",
      "FAM162A\n",
      "FITM2\n",
      "HSPA1L\n",
      "LAP3\n",
      "MET\n",
      "NT5C3A\n",
      "PC\n",
      "PCDH9\n",
      "PFDN5\n",
      "PHB\n",
      "PLP2\n",
      "SENP7\n",
      "SLC30A1\n",
      "SMAD3\n",
      "STK40\n",
      "TP53\n",
      "TRAF3\n",
      "TRIM4\n",
      "TXNRD1\n",
      "WDR26\n"
     ]
    }
   ],
   "source": [
    "for virus,sub_df in all_source.groupby('Host Gene'):\n",
    "    if len(sub_df['Direction'].value_counts())>1:\n",
    "        print(virus)\n",
    "#     break"
   ]
  },
  {
   "cell_type": "markdown",
   "metadata": {},
   "source": []
  }
 ],
 "metadata": {
  "kernelspec": {
   "display_name": "Python 3",
   "language": "python",
   "name": "python3"
  },
  "language_info": {
   "codemirror_mode": {
    "name": "ipython",
    "version": 3
   },
   "file_extension": ".py",
   "mimetype": "text/x-python",
   "name": "python",
   "nbconvert_exporter": "python",
   "pygments_lexer": "ipython3",
   "version": "3.8.5"
  }
 },
 "nbformat": 4,
 "nbformat_minor": 4
}
