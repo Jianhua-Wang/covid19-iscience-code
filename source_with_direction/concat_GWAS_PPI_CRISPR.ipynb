{
 "cells": [
  {
   "cell_type": "code",
   "execution_count": 1,
   "metadata": {},
   "outputs": [],
   "source": [
    "import pandas as pd"
   ]
  },
  {
   "cell_type": "code",
   "execution_count": 22,
   "metadata": {},
   "outputs": [],
   "source": [
    "types = ['GWAS','CRISPR','PPI']"
   ]
  },
  {
   "cell_type": "markdown",
   "metadata": {},
   "source": [
    "# concat GWAS, CRISPR, and GWAS"
   ]
  },
  {
   "cell_type": "code",
   "execution_count": 23,
   "metadata": {},
   "outputs": [],
   "source": [
    "all_genes = []\n",
    "for source_type in types:\n",
    "    df = pd.read_excel(f'./{source_type}/ALL_{source_type}.xlsx')\n",
    "    all_genes.append(df)\n",
    "all_genes = pd.concat(all_genes,ignore_index=True)"
   ]
  },
  {
   "cell_type": "code",
   "execution_count": 24,
   "metadata": {},
   "outputs": [],
   "source": [
    "all_genes[['Virus', 'Host Gene', 'Host Gene Type', 'Host Gene Source']].to_excel('./all_host_genes.xlsx',index=False)"
   ]
  },
  {
   "cell_type": "code",
   "execution_count": 25,
   "metadata": {},
   "outputs": [],
   "source": [
    "all_genes_dire = all_genes[all_genes['Direction'].notnull()].copy()"
   ]
  },
  {
   "cell_type": "markdown",
   "metadata": {},
   "source": [
    "# conflict genes cross all three types"
   ]
  },
  {
   "cell_type": "code",
   "execution_count": 26,
   "metadata": {
    "scrolled": false
   },
   "outputs": [
    {
     "name": "stdout",
     "output_type": "stream",
     "text": [
      "CCHCR1 SARS-CoV2\n",
      "         Virus Host Gene    Host Gene Type Host Gene Source  Direction\n",
      "17   SARS-CoV2    CCHCR1              GWAS            GRASP        1.0\n",
      "298  SARS-CoV2    CCHCR1  CRISPR-Screening         33686287       -1.0\n",
      "LRRC47 SARS-CoV\n",
      "         Virus Host Gene    Host Gene Type   Host Gene Source  Direction\n",
      "791   SARS-CoV    LRRC47  CRISPR-Screening           33147444       -1.0\n",
      "1882  SARS-CoV    LRRC47               PPI  2020.06.17.156455        1.0\n",
      "RYBP SARS-CoV\n",
      "         Virus Host Gene    Host Gene Type Host Gene Source  Direction\n",
      "962   SARS-CoV      RYBP  CRISPR-Screening         33147444        1.0\n",
      "2538  SARS-CoV      RYBP               PPI         22046132       -1.0\n"
     ]
    }
   ],
   "source": [
    "conflict_genes = []\n",
    "for (gene,virus),sub_df in all_genes_dire.groupby(['Host Gene','Virus']):\n",
    "    if len(sub_df['Direction'].unique()) > 1:\n",
    "        print(gene,virus)\n",
    "        print(sub_df.iloc[:,:5])\n",
    "        conflict_genes.append(gene)\n",
    "all_genes_dire = all_genes_dire[~all_genes_dire['Host Gene'].isin(conflict_genes)]"
   ]
  },
  {
   "cell_type": "code",
   "execution_count": 27,
   "metadata": {
    "scrolled": false
   },
   "outputs": [],
   "source": [
    "all_genes_dire.to_excel('./all_host_genes_direction.xlsx',index=False)"
   ]
  },
  {
   "cell_type": "code",
   "execution_count": null,
   "metadata": {},
   "outputs": [],
   "source": []
  }
 ],
 "metadata": {
  "kernelspec": {
   "display_name": "Python 3",
   "language": "python",
   "name": "python3"
  },
  "language_info": {
   "codemirror_mode": {
    "name": "ipython",
    "version": 3
   },
   "file_extension": ".py",
   "mimetype": "text/x-python",
   "name": "python",
   "nbconvert_exporter": "python",
   "pygments_lexer": "ipython3",
   "version": "3.8.5"
  }
 },
 "nbformat": 4,
 "nbformat_minor": 4
}
